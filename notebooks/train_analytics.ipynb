{
 "cells": [
  {
   "cell_type": "code",
   "execution_count": 1,
   "id": "5c602fd9-88e5-4afb-9cbe-1fcb41b4ed4f",
   "metadata": {},
   "outputs": [],
   "source": [
    "import numpy as np\n",
    "import pandas as pd\n",
    "import tqdm\n",
    "import matplotlib.pyplot as plt\n",
    "import seaborn as sns\n",
    "\n",
    "sns.set_style('whitegrid')"
   ]
  },
  {
   "cell_type": "code",
   "execution_count": 5,
   "id": "efe998cb-1b9a-4294-a841-aff4263ef5e0",
   "metadata": {},
   "outputs": [
    {
     "data": {
      "text/plain": [
       "target\n",
       "0.0    328\n",
       "1.0    697\n",
       "dtype: int64"
      ]
     },
     "execution_count": 5,
     "metadata": {},
     "output_type": "execute_result"
    }
   ],
   "source": [
    "pd.read_feather('../data/train_dataset.fth').groupby('target').size()"
   ]
  },
  {
   "cell_type": "code",
   "execution_count": 64,
   "id": "322ee74d-5fef-4af9-89a5-ca05a7da4ce7",
   "metadata": {},
   "outputs": [
    {
     "data": {
      "text/html": [
       "<div>\n",
       "<style scoped>\n",
       "    .dataframe tbody tr th:only-of-type {\n",
       "        vertical-align: middle;\n",
       "    }\n",
       "\n",
       "    .dataframe tbody tr th {\n",
       "        vertical-align: top;\n",
       "    }\n",
       "\n",
       "    .dataframe thead th {\n",
       "        text-align: right;\n",
       "    }\n",
       "</style>\n",
       "<table border=\"1\" class=\"dataframe\">\n",
       "  <thead>\n",
       "    <tr style=\"text-align: right;\">\n",
       "      <th></th>\n",
       "      <th>user_id</th>\n",
       "      <th>session_id</th>\n",
       "      <th>vacancy_id</th>\n",
       "      <th>action_type</th>\n",
       "      <th>action_dt</th>\n",
       "      <th>session_end</th>\n",
       "    </tr>\n",
       "  </thead>\n",
       "  <tbody>\n",
       "    <tr>\n",
       "      <th>393</th>\n",
       "      <td>u_341718</td>\n",
       "      <td>s_3846493</td>\n",
       "      <td>[v_911837, v_1884096, v_1715539, v_1245745, v_...</td>\n",
       "      <td>[2, 2, 2, 2, 2, 2, 2, 2, 2, 2, 2, 1, 2, 2, 2, ...</td>\n",
       "      <td>[2023-11-04T10:19:39.242000000, 2023-11-04T10:...</td>\n",
       "      <td>2023-11-04 10:31:47.073</td>\n",
       "    </tr>\n",
       "    <tr>\n",
       "      <th>413</th>\n",
       "      <td>u_224429</td>\n",
       "      <td>s_30564375</td>\n",
       "      <td>[v_2560758, v_1654519, v_2551855, v_2373031, v...</td>\n",
       "      <td>[2, 2, 2, 2, 2, 2, 2, 2, 2]</td>\n",
       "      <td>[2023-11-04T15:15:25.763000000, 2023-11-04T15:...</td>\n",
       "      <td>2023-11-04 15:34:41.822</td>\n",
       "    </tr>\n",
       "  </tbody>\n",
       "</table>\n",
       "</div>"
      ],
      "text/plain": [
       "      user_id  session_id                                         vacancy_id  \\\n",
       "393  u_341718   s_3846493  [v_911837, v_1884096, v_1715539, v_1245745, v_...   \n",
       "413  u_224429  s_30564375  [v_2560758, v_1654519, v_2551855, v_2373031, v...   \n",
       "\n",
       "                                           action_type  \\\n",
       "393  [2, 2, 2, 2, 2, 2, 2, 2, 2, 2, 2, 1, 2, 2, 2, ...   \n",
       "413                        [2, 2, 2, 2, 2, 2, 2, 2, 2]   \n",
       "\n",
       "                                             action_dt             session_end  \n",
       "393  [2023-11-04T10:19:39.242000000, 2023-11-04T10:... 2023-11-04 10:31:47.073  \n",
       "413  [2023-11-04T15:15:25.763000000, 2023-11-04T15:... 2023-11-04 15:34:41.822  "
      ]
     },
     "execution_count": 64,
     "metadata": {},
     "output_type": "execute_result"
    }
   ],
   "source": [
    "data = pd.read_feather('../data/train.small_sample.fth')\n",
    "data['session_end'] = data['action_dt'].apply(lambda l: max(l))\n",
    "data.head(2)"
   ]
  },
  {
   "cell_type": "code",
   "execution_count": 65,
   "id": "ad124d7a-812e-4659-9ce1-489309f949a8",
   "metadata": {},
   "outputs": [
    {
     "data": {
      "image/png": "[encoded data removed]",
      "text/plain": [
       "<Figure size 640x480 with 1 Axes>"
      ]
     },
     "metadata": {},
     "output_type": "display_data"
    }
   ],
   "source": [
    "plt.hist(data.groupby('user_id').size(), range=(1, 101), bins=100)\n",
    "plt.show()"
   ]
  },
  {
   "cell_type": "code",
   "execution_count": 66,
   "id": "1cb0459f-1259-4111-b31d-b550b279375e",
   "metadata": {},
   "outputs": [
    {
     "data": {
      "text/plain": [
       "((33804, 6), (18733, 6))"
      ]
     },
     "execution_count": 66,
     "metadata": {},
     "output_type": "execute_result"
    }
   ],
   "source": [
    "n_session = data.groupby('user_id').size().reset_index().rename(columns={0: 'n_session'})\n",
    "\n",
    "big_users = data.merge(n_session[(n_session['n_session'] > 1)][['user_id']], on='user_id')\n",
    "big_users = big_users.sort_values('session_end').groupby('user_id').tail(5)\n",
    "\n",
    "data.shape, big_users.shape"
   ]
  },
  {
   "cell_type": "code",
   "execution_count": 67,
   "id": "c45445ea-e2ff-4db6-98b7-adb0050555cb",
   "metadata": {},
   "outputs": [
    {
     "name": "stderr",
     "output_type": "stream",
     "text": [
      "100%|████████████████████████████████████████████████████████████████████████████████████████| 5180/5180 [01:13<00:00, 70.80it/s]\n"
     ]
    }
   ],
   "source": [
    "import collections\n",
    "\n",
    "class Candidate:\n",
    "    def __init__(self, vac):\n",
    "        self.vac = vac\n",
    "        self.sessions_back_first = 1000\n",
    "        self.sessions_back_last = 1000\n",
    "        self.action_1 = 0\n",
    "        self.action_2 = 0\n",
    "        self.action_3 = 0\n",
    "\n",
    "    def pass_session(self):\n",
    "        self.sessions_back_last += 1\n",
    "        self.sessions_back_first += 1\n",
    "\n",
    "    def __repr__(self):\n",
    "        return f'Candidate {self.vac}:\\t{self.action_1}\\t{self.action_2}\\t{self.action_3}' \\\n",
    "            f'\\t{self.sessions_back_first}\\t{self.sessions_back_last}'\n",
    "\n",
    "    def get_features(self):\n",
    "        return {\n",
    "            'vac': self.vac,\n",
    "            'action_1': self.action_1,\n",
    "            'action_2': self.action_2,\n",
    "            'action_3': self.action_3,\n",
    "            'sessions_back_first': self.sessions_back_first,\n",
    "            'sessions_back_last': self.sessions_back_last,\n",
    "        }\n",
    "\n",
    "def candidates_to_df(d):\n",
    "    return pd.DataFrame([e.get_features() for _, e in d.items()])\n",
    "\n",
    "dataset = None\n",
    "\n",
    "for user_id, user_sessions in tqdm.tqdm(big_users.groupby('user_id')):\n",
    "    candidates = dict()\n",
    "    for _, row in user_sessions.sort_values('session_end').iterrows():\n",
    "        order = np.argsort(row['action_dt'])\n",
    "        actions = row['action_type'][order]\n",
    "        vacs = row['vacancy_id'][order]\n",
    "        session = pd.DataFrame({\n",
    "            'action': actions,\n",
    "            'vac': vacs,\n",
    "        })\n",
    "    \n",
    "        applies = session[session['action'] == 1][['vac']]\n",
    "        applies['target'] = 1\n",
    "    \n",
    "        if len(candidates) > 0:\n",
    "            candidates_df = candidates_to_df(candidates)\n",
    "            candidates_df = candidates_df.merge(applies, how='left', on='vac')\n",
    "            candidates_df['target'] = candidates_df['target'].fillna(0)\n",
    "            candidates_df = pd.concat([\n",
    "                candidates_df[candidates_df['target'] == 1],\n",
    "                candidates_df[candidates_df['target'] == 0].sample(frac=0.01),\n",
    "            ])\n",
    "            candidates_df['user_id'] = user_id\n",
    "            candidates_df['session_id'] = row['session_id']\n",
    "        \n",
    "            if dataset is None:\n",
    "                dataset = candidates_df\n",
    "            else:\n",
    "                dataset = pd.concat([dataset, candidates_df], ignore_index=True)\n",
    "    \n",
    "        # add new candidates\n",
    "        for _, action in session.iterrows():\n",
    "            if action['vac'] not in candidates:\n",
    "                candidates[action['vac']] = Candidate(action['vac'])\n",
    "                candidates[action['vac']].sessions_back_first = 0\n",
    "            candidates[action['vac']].sessions_back_last = 0\n",
    "    \n",
    "            if action['action'] == 1:\n",
    "                candidates[action['vac']].action_1 += 1\n",
    "            elif action['action'] == 2: \n",
    "                candidates[action['vac']].action_2 += 1\n",
    "            elif action['action'] == 3: \n",
    "                candidates[action['vac']].action_3 += 1\n",
    "    \n",
    "        # update candidates\n",
    "        for vac in candidates:\n",
    "            candidates[vac].pass_session()\n"
   ]
  },
  {
   "cell_type": "code",
   "execution_count": 68,
   "id": "ff62911a-df30-4e56-856a-3b9d8ebf1e03",
   "metadata": {},
   "outputs": [
    {
     "data": {
      "text/html": [
       "<div>\n",
       "<style scoped>\n",
       "    .dataframe tbody tr th:only-of-type {\n",
       "        vertical-align: middle;\n",
       "    }\n",
       "\n",
       "    .dataframe tbody tr th {\n",
       "        vertical-align: top;\n",
       "    }\n",
       "\n",
       "    .dataframe thead th {\n",
       "        text-align: right;\n",
       "    }\n",
       "</style>\n",
       "<table border=\"1\" class=\"dataframe\">\n",
       "  <thead>\n",
       "    <tr style=\"text-align: right;\">\n",
       "      <th></th>\n",
       "      <th>vac</th>\n",
       "      <th>action_1</th>\n",
       "      <th>action_2</th>\n",
       "      <th>action_3</th>\n",
       "      <th>sessions_back_first</th>\n",
       "      <th>sessions_back_last</th>\n",
       "      <th>target</th>\n",
       "      <th>user_id</th>\n",
       "      <th>session_id</th>\n",
       "    </tr>\n",
       "  </thead>\n",
       "  <tbody>\n",
       "    <tr>\n",
       "      <th>0</th>\n",
       "      <td>v_1739178</td>\n",
       "      <td>1</td>\n",
       "      <td>1</td>\n",
       "      <td>0</td>\n",
       "      <td>2</td>\n",
       "      <td>2</td>\n",
       "      <td>0.0</td>\n",
       "      <td>u_1000023</td>\n",
       "      <td>s_19388302</td>\n",
       "    </tr>\n",
       "    <tr>\n",
       "      <th>1</th>\n",
       "      <td>v_1045219</td>\n",
       "      <td>0</td>\n",
       "      <td>1</td>\n",
       "      <td>0</td>\n",
       "      <td>1</td>\n",
       "      <td>1</td>\n",
       "      <td>0.0</td>\n",
       "      <td>u_1000609</td>\n",
       "      <td>s_4215418</td>\n",
       "    </tr>\n",
       "    <tr>\n",
       "      <th>2</th>\n",
       "      <td>v_1952209</td>\n",
       "      <td>0</td>\n",
       "      <td>3</td>\n",
       "      <td>0</td>\n",
       "      <td>4</td>\n",
       "      <td>1</td>\n",
       "      <td>0.0</td>\n",
       "      <td>u_1002423</td>\n",
       "      <td>s_18808667</td>\n",
       "    </tr>\n",
       "  </tbody>\n",
       "</table>\n",
       "</div>"
      ],
      "text/plain": [
       "         vac  action_1  action_2  action_3  sessions_back_first  \\\n",
       "0  v_1739178         1         1         0                    2   \n",
       "1  v_1045219         0         1         0                    1   \n",
       "2  v_1952209         0         3         0                    4   \n",
       "\n",
       "   sessions_back_last  target    user_id  session_id  \n",
       "0                   2     0.0  u_1000023  s_19388302  \n",
       "1                   1     0.0  u_1000609   s_4215418  \n",
       "2                   1     0.0  u_1002423  s_18808667  "
      ]
     },
     "execution_count": 68,
     "metadata": {},
     "output_type": "execute_result"
    }
   ],
   "source": [
    "dataset.head(3)"
   ]
  },
  {
   "cell_type": "code",
   "execution_count": 70,
   "id": "6862cc76-7ebf-4013-b69e-f8c7e862ce90",
   "metadata": {},
   "outputs": [
    {
     "data": {
      "text/plain": [
       "target\n",
       "0.0    328\n",
       "1.0    697\n",
       "dtype: int64"
      ]
     },
     "execution_count": 70,
     "metadata": {},
     "output_type": "execute_result"
    }
   ],
   "source": [
    "dataset.groupby('target').size()"
   ]
  }
 ],
 "metadata": {
  "kernelspec": {
   "display_name": "Python 3 (ipykernel)",
   "language": "python",
   "name": "python3"
  },
  "language_info": {
   "codemirror_mode": {
    "name": "ipython",
    "version": 3
   },
   "file_extension": ".py",
   "mimetype": "text/x-python",
   "name": "python",
   "nbconvert_exporter": "python",
   "pygments_lexer": "ipython3",
   "version": "3.10.12"
  }
 },
 "nbformat": 4,
 "nbformat_minor": 5
}
