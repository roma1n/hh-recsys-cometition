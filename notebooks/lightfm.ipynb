{
 "cells": [
  {
   "cell_type": "code",
   "execution_count": 86,
   "id": "78330b21-fcae-4022-8b89-d155ca67d94f",
   "metadata": {},
   "outputs": [],
   "source": [
    "import polars as pl\n",
    "from scipy import sparse\n",
    "from sklearn import preprocessing\n",
    "import lightfm\n",
    "import tqdm\n",
    "import numpy as np\n",
    "import pickle"
   ]
  },
  {
   "cell_type": "code",
   "execution_count": 2,
   "id": "48797aea-4670-4739-a085-b76e8badc447",
   "metadata": {},
   "outputs": [
    {
     "name": "stdout",
     "output_type": "stream",
     "text": [
      "hh_recsys_sample.pq\n",
      "hh_recsys_test_hh.pq\n",
      "hh_recsys_train_hh.pq\n",
      "hh_recsys_vacancies.pq\n"
     ]
    }
   ],
   "source": [
    "!ls ../data | grep hh_"
   ]
  },
  {
   "cell_type": "code",
   "execution_count": 15,
   "id": "2e548c4f-d253-493d-911d-46a962ff4344",
   "metadata": {},
   "outputs": [
    {
     "data": {
      "text/html": [
       "<div><style>\n",
       ".dataframe > thead > tr,\n",
       ".dataframe > tbody > tr {\n",
       "  text-align: right;\n",
       "  white-space: pre-wrap;\n",
       "}\n",
       "</style>\n",
       "<small>shape: (3, 4)</small><table border=\"1\" class=\"dataframe\"><thead><tr><th>user_id</th><th>vacancy_id</th><th>uid</th><th>iid</th></tr><tr><td>str</td><td>str</td><td>i64</td><td>i64</td></tr></thead><tbody><tr><td>&quot;u_332060&quot;</td><td>&quot;v_1246726&quot;</td><td>332060</td><td>1246726</td></tr><tr><td>&quot;u_786220&quot;</td><td>&quot;v_154052&quot;</td><td>786220</td><td>154052</td></tr><tr><td>&quot;u_786220&quot;</td><td>&quot;v_2727929&quot;</td><td>786220</td><td>2727929</td></tr></tbody></table></div>"
      ],
      "text/plain": [
       "shape: (3, 4)\n",
       "┌──────────┬────────────┬────────┬─────────┐\n",
       "│ user_id  ┆ vacancy_id ┆ uid    ┆ iid     │\n",
       "│ ---      ┆ ---        ┆ ---    ┆ ---     │\n",
       "│ str      ┆ str        ┆ i64    ┆ i64     │\n",
       "╞══════════╪════════════╪════════╪═════════╡\n",
       "│ u_332060 ┆ v_1246726  ┆ 332060 ┆ 1246726 │\n",
       "│ u_786220 ┆ v_154052   ┆ 786220 ┆ 154052  │\n",
       "│ u_786220 ┆ v_2727929  ┆ 786220 ┆ 2727929 │\n",
       "└──────────┴────────────┴────────┴─────────┘"
      ]
     },
     "execution_count": 15,
     "metadata": {},
     "output_type": "execute_result"
    }
   ],
   "source": [
    "log = pl.concat([\n",
    "    pl.read_parquet('../data/hh_recsys_train_hh.pq'),\n",
    "    pl.read_parquet('../data/hh_recsys_test_hh.pq'),\n",
    "]).select(\n",
    "    pl.col('user_id'),\n",
    "    pl.col('vacancy_id'),\n",
    ").explode('vacancy_id').unique().select(\n",
    "    pl.all(),\n",
    "    pl.col('user_id').str.slice(2).cast(pl.Int64).alias('uid'),\n",
    "    pl.col('vacancy_id').str.slice(2).cast(pl.Int64).alias('iid'),\n",
    ")\n",
    "\n",
    "log.head(3)"
   ]
  },
  {
   "cell_type": "code",
   "execution_count": 24,
   "id": "8263e676-78b8-41db-bc26-e44418d6fe09",
   "metadata": {},
   "outputs": [],
   "source": [
    "N_USERS = 1177422\n",
    "N_ITEMS = 2734129\n",
    "N_EPOCH = 10"
   ]
  },
  {
   "cell_type": "code",
   "execution_count": 58,
   "id": "ed70cda6-a52a-44e9-8b9d-7cb22b216707",
   "metadata": {},
   "outputs": [
    {
     "data": {
      "text/plain": [
       "(15413244, 15413244)"
      ]
     },
     "execution_count": 58,
     "metadata": {},
     "output_type": "execute_result"
    }
   ],
   "source": [
    "# sample = log.filter(\n",
    "#     (pl.col('user_id').hash().mod(10).eq(1)) & (pl.col('vacancy_id').hash().mod(10).eq(1))\n",
    "# )\n",
    "sample = log\n",
    "\n",
    "len(log), len(sample)"
   ]
  },
  {
   "cell_type": "code",
   "execution_count": 59,
   "id": "6bf503c9-acfd-4dbd-807d-9adbbb530155",
   "metadata": {},
   "outputs": [],
   "source": [
    "train = sparse.coo_matrix(\n",
    "    (\n",
    "        np.ones(len(sample)),\n",
    "        (\n",
    "            sample['uid'].to_list(),\n",
    "            sample['iid'].to_list(),\n",
    "        ),\n",
    "    ),\n",
    "    shape=(N_USERS, N_ITEMS),\n",
    ")"
   ]
  },
  {
   "cell_type": "code",
   "execution_count": 60,
   "id": "29bb5eba-5180-4828-9e54-2ae6700444ed",
   "metadata": {},
   "outputs": [
    {
     "name": "stderr",
     "output_type": "stream",
     "text": [
      "Epoch: 100%|██████████████████████████████████████████████████████████████████████████████████████████████████████████████████████████████| 10/10 [09:29<00:00, 56.99s/it]\n"
     ]
    },
    {
     "data": {
      "text/plain": [
       "<lightfm.lightfm.LightFM at 0x7f118f8bfa30>"
      ]
     },
     "execution_count": 60,
     "metadata": {},
     "output_type": "execute_result"
    }
   ],
   "source": [
    "model = lightfm.LightFM(\n",
    "    loss='warp',\n",
    "    no_components=16,\n",
    ")\n",
    "model.fit(\n",
    "    train,\n",
    "    epochs=10,\n",
    "    verbose=2,\n",
    ")\n"
   ]
  },
  {
   "cell_type": "code",
   "execution_count": 87,
   "id": "a1e878af-bdd4-44e4-bd35-1cee39c01bdc",
   "metadata": {},
   "outputs": [],
   "source": [
    "with open('../data/lightfm.pickle', 'wb') as f:\n",
    "    pickle.dump(model, f, protocol=pickle.HIGHEST_PROTOCOL)"
   ]
  },
  {
   "cell_type": "code",
   "execution_count": 89,
   "id": "f6099dc9-ec65-4391-a9a6-b20f20cd958f",
   "metadata": {},
   "outputs": [],
   "source": [
    "with open('../data/lightfm.pickle', 'rb') as f:\n",
    "    model_c = pickle.load(f)"
   ]
  },
  {
   "cell_type": "code",
   "execution_count": 90,
   "id": "c1fede71-86b6-4f25-af3f-62457b540956",
   "metadata": {},
   "outputs": [
    {
     "data": {
      "text/plain": [
       "(1177422, 16)"
      ]
     },
     "execution_count": 90,
     "metadata": {},
     "output_type": "execute_result"
    }
   ],
   "source": [
    "model_c.user_embeddings.shape"
   ]
  },
  {
   "cell_type": "code",
   "execution_count": 70,
   "id": "dc30e241-734d-44be-b7df-0783a96473a2",
   "metadata": {},
   "outputs": [],
   "source": [
    "u = model.user_embeddings[sample['uid'].to_list()]\n",
    "i = model.item_embeddings[sample['iid'].to_list()]\n",
    "\n",
    "arr = np.array(sample['iid'].to_list())\n",
    "np.random.shuffle(arr)\n",
    "i_shuffled = model.item_embeddings[arr]\n"
   ]
  },
  {
   "cell_type": "code",
   "execution_count": 80,
   "id": "a66ea044-90ed-4f2d-a0fe-96f933845751",
   "metadata": {},
   "outputs": [
    {
     "data": {
      "text/html": [
       "<div><style>\n",
       ".dataframe > thead > tr,\n",
       ".dataframe > tbody > tr {\n",
       "  text-align: right;\n",
       "  white-space: pre-wrap;\n",
       "}\n",
       "</style>\n",
       "<small>shape: (4, 1)</small><table border=\"1\" class=\"dataframe\"><thead><tr><th>x</th></tr><tr><td>i64</td></tr></thead><tbody><tr><td>1</td></tr><tr><td>2</td></tr><tr><td>3</td></tr><tr><td>4</td></tr></tbody></table></div>"
      ],
      "text/plain": [
       "shape: (4, 1)\n",
       "┌─────┐\n",
       "│ x   │\n",
       "│ --- │\n",
       "│ i64 │\n",
       "╞═════╡\n",
       "│ 1   │\n",
       "│ 2   │\n",
       "│ 3   │\n",
       "│ 4   │\n",
       "└─────┘"
      ]
     },
     "execution_count": 80,
     "metadata": {},
     "output_type": "execute_result"
    }
   ],
   "source": [
    "x = pl.DataFrame().with_columns(x=[1, 2, 3, 4]).explode('x')\n",
    "x"
   ]
  },
  {
   "cell_type": "code",
   "execution_count": null,
   "id": "9cd98ae4-14ae-48c9-852d-5b56d38aeeab",
   "metadata": {},
   "outputs": [],
   "source": []
  },
  {
   "cell_type": "code",
   "execution_count": 85,
   "id": "48442c50-b973-4498-9d40-cf9d009626c2",
   "metadata": {},
   "outputs": [
    {
     "data": {
      "text/html": [
       "<div><style>\n",
       ".dataframe > thead > tr,\n",
       ".dataframe > tbody > tr {\n",
       "  text-align: right;\n",
       "  white-space: pre-wrap;\n",
       "}\n",
       "</style>\n",
       "<small>shape: (4, 1)</small><table border=\"1\" class=\"dataframe\"><thead><tr><th>literal</th></tr><tr><td>str</td></tr></thead><tbody><tr><td>&quot;v_1&quot;</td></tr><tr><td>&quot;v_2&quot;</td></tr><tr><td>&quot;v_3&quot;</td></tr><tr><td>&quot;v_4&quot;</td></tr></tbody></table></div>"
      ],
      "text/plain": [
       "shape: (4, 1)\n",
       "┌─────────┐\n",
       "│ literal │\n",
       "│ ---     │\n",
       "│ str     │\n",
       "╞═════════╡\n",
       "│ v_1     │\n",
       "│ v_2     │\n",
       "│ v_3     │\n",
       "│ v_4     │\n",
       "└─────────┘"
      ]
     },
     "execution_count": 85,
     "metadata": {},
     "output_type": "execute_result"
    }
   ],
   "source": [
    "x.select(\n",
    "    pl.concat_str(pl.lit('v_'), pl.col('x').cast(pl.String))\n",
    ")"
   ]
  }
 ],
 "metadata": {
  "kernelspec": {
   "display_name": "Python 3 (ipykernel)",
   "language": "python",
   "name": "python3"
  },
  "language_info": {
   "codemirror_mode": {
    "name": "ipython",
    "version": 3
   },
   "file_extension": ".py",
   "mimetype": "text/x-python",
   "name": "python",
   "nbconvert_exporter": "python",
   "pygments_lexer": "ipython3",
   "version": "3.10.12"
  }
 },
 "nbformat": 4,
 "nbformat_minor": 5
}
