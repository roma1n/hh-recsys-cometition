{
 "cells": [
  {
   "cell_type": "code",
   "execution_count": 1,
   "metadata": {},
   "outputs": [],
   "source": [
    "# !pip install polars numpy implicit tqdm"
   ]
  },
  {
   "cell_type": "code",
   "execution_count": 1,
   "metadata": {},
   "outputs": [],
   "source": [
    "import polars as pl\n",
    "import numpy as np\n",
    "from tqdm import tqdm\n",
    "from scipy.sparse import csr_matrix\n",
    "import implicit\n",
    "from datetime import timedelta\n",
    "\n",
    "RANDOM_STATE = 42\n",
    "N_PREDICTIONS = 100\n"
   ]
  },
  {
   "cell_type": "code",
   "execution_count": 20,
   "metadata": {},
   "outputs": [
    {
     "name": "stdout",
     "output_type": "stream",
     "text": [
      "dssm_train.pq\t\thistory_baseline.pq\ttrain_dataset.fth\n",
      "hh_recsys_sample.pq\ttest.fth\t\ttrain_dataset.sample.fth\n",
      "hh_recsys_test_hh.pq\ttrain.fth\t\tvac.no_desc.fth\n",
      "hh_recsys_train_hh.pq\ttrain.sample.fth\n",
      "hh_recsys_vacancies.pq\ttrain.small_sample.fth\n"
     ]
    }
   ],
   "source": [
    "!ls ../data"
   ]
  },
  {
   "cell_type": "code",
   "execution_count": 21,
   "metadata": {},
   "outputs": [
    {
     "data": {
      "text/html": [
       "<div><style>\n",
       ".dataframe > thead > tr,\n",
       ".dataframe > tbody > tr {\n",
       "  text-align: right;\n",
       "  white-space: pre-wrap;\n",
       "}\n",
       "</style>\n",
       "<small>shape: (2, 8)</small><table border=\"1\" class=\"dataframe\"><thead><tr><th>user_id</th><th>n_sessions</th><th>vacancy_id</th><th>action_type</th><th>is_test</th><th>session_id</th><th>session_end</th><th>target</th></tr><tr><td>str</td><td>u32</td><td>list[u64]</td><td>list[i64]</td><td>bool</td><td>str</td><td>datetime[ns]</td><td>u64</td></tr></thead><tbody><tr><td>&quot;u_237129&quot;</td><td>2</td><td>[1481580, 208271, … 1606798]</td><td>[2, 2, … 2]</td><td>false</td><td>&quot;s_361359&quot;</td><td>2023-11-13 12:08:36.976</td><td>716724</td></tr><tr><td>&quot;u_237129&quot;</td><td>2</td><td>[1481580, 208271, … 1606798]</td><td>[2, 2, … 2]</td><td>false</td><td>&quot;s_361359&quot;</td><td>2023-11-13 12:08:36.976</td><td>690666</td></tr></tbody></table></div>"
      ],
      "text/plain": [
       "shape: (2, 8)\n",
       "┌──────────┬────────────┬──────────────┬─────────────┬─────────┬────────────┬─────────────┬────────┐\n",
       "│ user_id  ┆ n_sessions ┆ vacancy_id   ┆ action_type ┆ is_test ┆ session_id ┆ session_end ┆ target │\n",
       "│ ---      ┆ ---        ┆ ---          ┆ ---         ┆ ---     ┆ ---        ┆ ---         ┆ ---    │\n",
       "│ str      ┆ u32        ┆ list[u64]    ┆ list[i64]   ┆ bool    ┆ str        ┆ datetime[ns ┆ u64    │\n",
       "│          ┆            ┆              ┆             ┆         ┆            ┆ ]           ┆        │\n",
       "╞══════════╪════════════╪══════════════╪═════════════╪═════════╪════════════╪═════════════╪════════╡\n",
       "│ u_237129 ┆ 2          ┆ [1481580,    ┆ [2, 2, … 2] ┆ false   ┆ s_361359   ┆ 2023-11-13  ┆ 716724 │\n",
       "│          ┆            ┆ 208271, …    ┆             ┆         ┆            ┆ 12:08:36.97 ┆        │\n",
       "│          ┆            ┆ 1606798]     ┆             ┆         ┆            ┆ 6           ┆        │\n",
       "│ u_237129 ┆ 2          ┆ [1481580,    ┆ [2, 2, … 2] ┆ false   ┆ s_361359   ┆ 2023-11-13  ┆ 690666 │\n",
       "│          ┆            ┆ 208271, …    ┆             ┆         ┆            ┆ 12:08:36.97 ┆        │\n",
       "│          ┆            ┆ 1606798]     ┆             ┆         ┆            ┆ 6           ┆        │\n",
       "└──────────┴────────────┴──────────────┴─────────────┴─────────┴────────────┴─────────────┴────────┘"
      ]
     },
     "execution_count": 21,
     "metadata": {},
     "output_type": "execute_result"
    }
   ],
   "source": [
    "dssm = pl.read_parquet('../data/dssm_train.pq')\n",
    "dssm.head(2)"
   ]
  },
  {
   "cell_type": "code",
   "execution_count": 24,
   "metadata": {},
   "outputs": [
    {
     "data": {
      "text/plain": [
       "0.0"
      ]
     },
     "execution_count": 24,
     "metadata": {},
     "output_type": "execute_result"
    }
   ],
   "source": [
    "dssm['vacancy_id'].explode().is_null().mean()"
   ]
  },
  {
   "cell_type": "code",
   "execution_count": 23,
   "metadata": {},
   "outputs": [
    {
     "data": {
      "text/plain": [
       "0.0"
      ]
     },
     "execution_count": 23,
     "metadata": {},
     "output_type": "execute_result"
    }
   ],
   "source": [
    "dssm['target'].is_null().mean()"
   ]
  },
  {
   "cell_type": "code",
   "execution_count": 8,
   "metadata": {},
   "outputs": [
    {
     "data": {
      "text/html": [
       "<div><style>\n",
       ".dataframe > thead > tr,\n",
       ".dataframe > tbody > tr {\n",
       "  text-align: right;\n",
       "  white-space: pre-wrap;\n",
       "}\n",
       "</style>\n",
       "<small>shape: (2, 2)</small><table border=\"1\" class=\"dataframe\"><thead><tr><th>user_id</th><th>predictions</th></tr><tr><td>str</td><td>list[str]</td></tr></thead><tbody><tr><td>&quot;u_828064&quot;</td><td>[&quot;v_21361&quot;, &quot;v_1642325&quot;, … &quot;v_1770705&quot;]</td></tr><tr><td>&quot;u_850674&quot;</td><td>[&quot;v_1602597&quot;, &quot;v_1802097&quot;, … &quot;v_420479&quot;]</td></tr></tbody></table></div>"
      ],
      "text/plain": [
       "shape: (2, 2)\n",
       "┌──────────┬───────────────────────────────────┐\n",
       "│ user_id  ┆ predictions                       │\n",
       "│ ---      ┆ ---                               │\n",
       "│ str      ┆ list[str]                         │\n",
       "╞══════════╪═══════════════════════════════════╡\n",
       "│ u_828064 ┆ [\"v_21361\", \"v_1642325\", … \"v_17… │\n",
       "│ u_850674 ┆ [\"v_1602597\", \"v_1802097\", … \"v_… │\n",
       "└──────────┴───────────────────────────────────┘"
      ]
     },
     "execution_count": 8,
     "metadata": {},
     "output_type": "execute_result"
    }
   ],
   "source": [
    "sub = pl.read_parquet('../data/history_baseline.pq')\n",
    "sub.head(2)"
   ]
  },
  {
   "cell_type": "code",
   "execution_count": 9,
   "metadata": {},
   "outputs": [
    {
     "data": {
      "text/plain": [
       "(2734129, 13)"
      ]
     },
     "execution_count": 9,
     "metadata": {},
     "output_type": "execute_result"
    }
   ],
   "source": [
    "vacancies = pl.read_parquet('../data/hh_recsys_vacancies.pq')\n",
    "vacancies.shape"
   ]
  },
  {
   "cell_type": "code",
   "execution_count": 10,
   "metadata": {},
   "outputs": [
    {
     "data": {
      "text/html": [
       "<div><style>\n",
       ".dataframe > thead > tr,\n",
       ".dataframe > tbody > tr {\n",
       "  text-align: right;\n",
       "  white-space: pre-wrap;\n",
       "}\n",
       "</style>\n",
       "<small>shape: (2, 11)</small><table border=\"1\" class=\"dataframe\"><thead><tr><th>vacancy_id</th><th>name</th><th>company.id</th><th>compensation.from</th><th>compensation.to</th><th>compensation.currencyCode</th><th>area.id</th><th>area.regionId</th><th>employment</th><th>workSchedule</th><th>workExperience</th></tr><tr><td>str</td><td>str</td><td>str</td><td>i64</td><td>i64</td><td>str</td><td>str</td><td>str</td><td>str</td><td>str</td><td>str</td></tr></thead><tbody><tr><td>&quot;v_862116&quot;</td><td>&quot;Смотритель муз…</td><td>&quot;c_162972&quot;</td><td>16500</td><td>null</td><td>&quot;RUR&quot;</td><td>&quot;a_4761&quot;</td><td>&quot;ar_33&quot;</td><td>&quot;full&quot;</td><td>&quot;fullDay&quot;</td><td>&quot;noExperience&quot;</td></tr><tr><td>&quot;v_288642&quot;</td><td>&quot;Ведущий менедж…</td><td>&quot;c_208672&quot;</td><td>50000</td><td>null</td><td>&quot;RUR&quot;</td><td>&quot;a_744&quot;</td><td>&quot;ar_2&quot;</td><td>&quot;full&quot;</td><td>&quot;fullDay&quot;</td><td>&quot;noExperience&quot;</td></tr></tbody></table></div>"
      ],
      "text/plain": [
       "shape: (2, 11)\n",
       "┌───────────┬───────────┬───────────┬───────────┬───┬───────────┬───────────┬───────────┬──────────┐\n",
       "│ vacancy_i ┆ name      ┆ company.i ┆ compensat ┆ … ┆ area.regi ┆ employmen ┆ workSched ┆ workExpe │\n",
       "│ d         ┆ ---       ┆ d         ┆ ion.from  ┆   ┆ onId      ┆ t         ┆ ule       ┆ rience   │\n",
       "│ ---       ┆ str       ┆ ---       ┆ ---       ┆   ┆ ---       ┆ ---       ┆ ---       ┆ ---      │\n",
       "│ str       ┆           ┆ str       ┆ i64       ┆   ┆ str       ┆ str       ┆ str       ┆ str      │\n",
       "╞═══════════╪═══════════╪═══════════╪═══════════╪═══╪═══════════╪═══════════╪═══════════╪══════════╡\n",
       "│ v_862116  ┆ Смотрител ┆ c_162972  ┆ 16500     ┆ … ┆ ar_33     ┆ full      ┆ fullDay   ┆ noExperi │\n",
       "│           ┆ ь         ┆           ┆           ┆   ┆           ┆           ┆           ┆ ence     │\n",
       "│           ┆ музейный  ┆           ┆           ┆   ┆           ┆           ┆           ┆          │\n",
       "│ v_288642  ┆ Ведущий   ┆ c_208672  ┆ 50000     ┆ … ┆ ar_2      ┆ full      ┆ fullDay   ┆ noExperi │\n",
       "│           ┆ менеджер  ┆           ┆           ┆   ┆           ┆           ┆           ┆ ence     │\n",
       "│           ┆ по работе ┆           ┆           ┆   ┆           ┆           ┆           ┆          │\n",
       "│           ┆ с физ…    ┆           ┆           ┆   ┆           ┆           ┆           ┆          │\n",
       "└───────────┴───────────┴───────────┴───────────┴───┴───────────┴───────────┴───────────┴──────────┘"
      ]
     },
     "execution_count": 10,
     "metadata": {},
     "output_type": "execute_result"
    }
   ],
   "source": [
    "vac = vacancies.select(pl.exclude('description', 'keySkills.keySkill'))\n",
    "vac.head(2)"
   ]
  },
  {
   "cell_type": "code",
   "execution_count": 68,
   "metadata": {},
   "outputs": [
    {
     "data": {
      "text/plain": [
       "18058"
      ]
     },
     "execution_count": 68,
     "metadata": {},
     "output_type": "execute_result"
    }
   ],
   "source": [
    "len(name_mapping)"
   ]
  },
  {
   "cell_type": "code",
   "execution_count": 67,
   "metadata": {},
   "outputs": [
    {
     "data": {
      "text/html": [
       "<div><style>\n",
       ".dataframe > thead > tr,\n",
       ".dataframe > tbody > tr {\n",
       "  text-align: right;\n",
       "  white-space: pre-wrap;\n",
       "}\n",
       "</style>\n",
       "<small>shape: (2_734_129, 9)</small><table border=\"1\" class=\"dataframe\"><thead><tr><th>vacancy_id</th><th>area.regionId</th><th>area.id</th><th>company.id</th><th>workSchedule</th><th>employment</th><th>workExperience</th><th>compensation.currencyCode</th><th>name</th></tr><tr><td>u64</td><td>u64</td><td>u64</td><td>u64</td><td>u64</td><td>u64</td><td>u64</td><td>u64</td><td>u64</td></tr></thead><tbody><tr><td>862117</td><td>34</td><td>4762</td><td>162973</td><td>4</td><td>1</td><td>4</td><td>10</td><td>1</td></tr><tr><td>288643</td><td>3</td><td>745</td><td>208673</td><td>4</td><td>1</td><td>4</td><td>10</td><td>14604</td></tr><tr><td>1840055</td><td>79</td><td>6224</td><td>198110</td><td>4</td><td>1</td><td>3</td><td>10</td><td>1</td></tr><tr><td>2346233</td><td>52</td><td>4796</td><td>6138</td><td>4</td><td>1</td><td>4</td><td>10</td><td>1</td></tr><tr><td>312508</td><td>5</td><td>6838</td><td>206700</td><td>4</td><td>1</td><td>1</td><td>10</td><td>1</td></tr><tr><td>2323707</td><td>65</td><td>5921</td><td>244142</td><td>4</td><td>1</td><td>1</td><td>10</td><td>7020</td></tr><tr><td>704267</td><td>72</td><td>5399</td><td>192039</td><td>4</td><td>1</td><td>1</td><td>10</td><td>1888</td></tr><tr><td>525734</td><td>97</td><td>5044</td><td>5102</td><td>4</td><td>1</td><td>3</td><td>10</td><td>1</td></tr><tr><td>2091087</td><td>37</td><td>501</td><td>230891</td><td>2</td><td>1</td><td>1</td><td>10</td><td>4677</td></tr><tr><td>839658</td><td>45</td><td>2650</td><td>192371</td><td>4</td><td>1</td><td>4</td><td>10</td><td>1</td></tr><tr><td>2485962</td><td>42</td><td>1757</td><td>133808</td><td>4</td><td>1</td><td>2</td><td>10</td><td>5547</td></tr><tr><td>468074</td><td>88</td><td>2756</td><td>213053</td><td>4</td><td>1</td><td>1</td><td>10</td><td>1230</td></tr><tr><td>&hellip;</td><td>&hellip;</td><td>&hellip;</td><td>&hellip;</td><td>&hellip;</td><td>&hellip;</td><td>&hellip;</td><td>&hellip;</td><td>&hellip;</td></tr><tr><td>1741630</td><td>72</td><td>5399</td><td>85560</td><td>3</td><td>1</td><td>4</td><td>10</td><td>1</td></tr><tr><td>1841987</td><td>45</td><td>2650</td><td>44565</td><td>4</td><td>1</td><td>3</td><td>10</td><td>12425</td></tr><tr><td>272396</td><td>65</td><td>2432</td><td>77278</td><td>4</td><td>1</td><td>4</td><td>10</td><td>14027</td></tr><tr><td>2082312</td><td>26</td><td>62</td><td>167338</td><td>2</td><td>1</td><td>1</td><td>10</td><td>16881</td></tr><tr><td>292465</td><td>24</td><td>4285</td><td>138930</td><td>4</td><td>1</td><td>1</td><td>10</td><td>12816</td></tr><tr><td>704469</td><td>79</td><td>6224</td><td>17062</td><td>4</td><td>1</td><td>1</td><td>10</td><td>1</td></tr><tr><td>496190</td><td>39</td><td>344</td><td>33310</td><td>3</td><td>1</td><td>4</td><td>10</td><td>1</td></tr><tr><td>2484960</td><td>72</td><td>5388</td><td>203257</td><td>1</td><td>1</td><td>4</td><td>10</td><td>13530</td></tr><tr><td>205164</td><td>70</td><td>5528</td><td>158696</td><td>4</td><td>1</td><td>1</td><td>10</td><td>15704</td></tr><tr><td>639898</td><td>42</td><td>1757</td><td>209366</td><td>4</td><td>1</td><td>1</td><td>10</td><td>12902</td></tr><tr><td>1636532</td><td>61</td><td>3404</td><td>246245</td><td>4</td><td>1</td><td>4</td><td>10</td><td>1</td></tr><tr><td>1689740</td><td>92</td><td>1691</td><td>73192</td><td>4</td><td>1</td><td>1</td><td>10</td><td>1</td></tr></tbody></table></div>"
      ],
      "text/plain": [
       "shape: (2_734_129, 9)\n",
       "┌────────────┬────────────┬─────────┬────────────┬───┬────────────┬────────────┬───────────┬───────┐\n",
       "│ vacancy_id ┆ area.regio ┆ area.id ┆ company.id ┆ … ┆ employment ┆ workExperi ┆ compensat ┆ name  │\n",
       "│ ---        ┆ nId        ┆ ---     ┆ ---        ┆   ┆ ---        ┆ ence       ┆ ion.curre ┆ ---   │\n",
       "│ u64        ┆ ---        ┆ u64     ┆ u64        ┆   ┆ u64        ┆ ---        ┆ ncyCode   ┆ u64   │\n",
       "│            ┆ u64        ┆         ┆            ┆   ┆            ┆ u64        ┆ ---       ┆       │\n",
       "│            ┆            ┆         ┆            ┆   ┆            ┆            ┆ u64       ┆       │\n",
       "╞════════════╪════════════╪═════════╪════════════╪═══╪════════════╪════════════╪═══════════╪═══════╡\n",
       "│ 862117     ┆ 34         ┆ 4762    ┆ 162973     ┆ … ┆ 1          ┆ 4          ┆ 10        ┆ 1     │\n",
       "│ 288643     ┆ 3          ┆ 745     ┆ 208673     ┆ … ┆ 1          ┆ 4          ┆ 10        ┆ 14604 │\n",
       "│ 1840055    ┆ 79         ┆ 6224    ┆ 198110     ┆ … ┆ 1          ┆ 3          ┆ 10        ┆ 1     │\n",
       "│ 2346233    ┆ 52         ┆ 4796    ┆ 6138       ┆ … ┆ 1          ┆ 4          ┆ 10        ┆ 1     │\n",
       "│ …          ┆ …          ┆ …       ┆ …          ┆ … ┆ …          ┆ …          ┆ …         ┆ …     │\n",
       "│ 205164     ┆ 70         ┆ 5528    ┆ 158696     ┆ … ┆ 1          ┆ 1          ┆ 10        ┆ 15704 │\n",
       "│ 639898     ┆ 42         ┆ 1757    ┆ 209366     ┆ … ┆ 1          ┆ 1          ┆ 10        ┆ 12902 │\n",
       "│ 1636532    ┆ 61         ┆ 3404    ┆ 246245     ┆ … ┆ 1          ┆ 4          ┆ 10        ┆ 1     │\n",
       "│ 1689740    ┆ 92         ┆ 1691    ┆ 73192      ┆ … ┆ 1          ┆ 1          ┆ 10        ┆ 1     │\n",
       "└────────────┴────────────┴─────────┴────────────┴───┴────────────┴────────────┴───────────┴───────┘"
      ]
     },
     "execution_count": 67,
     "metadata": {},
     "output_type": "execute_result"
    }
   ],
   "source": [
    "name_mapping = {key: value + 2 for value, key in enumerate(vac.group_by('name').count().filter(\n",
    "    pl.col('count') > 10\n",
    ")['name'].to_list())}\n",
    "\n",
    "vac.select(\n",
    "    pl.col('vacancy_id').str.slice(2).cast(pl.UInt64).add(1),\n",
    "    pl.col('area.regionId').str.slice(3).cast(pl.UInt64).add(1),\n",
    "    pl.col('area.id').str.slice(2).cast(pl.UInt64).add(1),\n",
    "    pl.col('company.id').str.slice(2).cast(pl.UInt64).add(1),\n",
    "    vac['workSchedule'].fill_null('fullDay').replace({\n",
    "        \"flexible\": 1,\n",
    "        \"flyInFlyOut\": 2,\n",
    "        \"shift\": 3,\n",
    "        \"fullDay\": 4,\n",
    "        \"remote\": 5,\n",
    "    }, return_dtype=pl.UInt64),\n",
    "    vac['employment'].fill_null('full').replace({\n",
    "        \"full\": 1,\n",
    "        \"project\": 2,\n",
    "        \"volunteer\": 3,\n",
    "        \"probation\": 4,\n",
    "        \"part\": 5,\n",
    "    }, return_dtype=pl.UInt64),\n",
    "    vac['workExperience'].fill_null('between1And3').replace({\n",
    "        \"between1And3\": 1,\n",
    "        \"moreThan6\": 2,\n",
    "        \"between3And6\": 3,\n",
    "        \"noExperience\": 4,\n",
    "    }, return_dtype=pl.UInt64),\n",
    "    vac['compensation.currencyCode'].fill_null('RUR').replace({\n",
    "        \"KGS\": 1,\n",
    "        \"EUR\": 2,\n",
    "        \"USD\": 3,\n",
    "        \"AZN\": 4,\n",
    "        \"BYR\": 5,\n",
    "        \"UZS\": 6,\n",
    "        \"UAH\": 7,\n",
    "        \"GEL\": 8,\n",
    "        \"KZT\": 9,\n",
    "        \"RUR\": 10,\n",
    "    }, return_dtype=pl.UInt64),\n",
    "    vac['name'].replace(name_mapping, return_dtype=pl.UInt64).fill_null(1),\n",
    ")"
   ]
  },
  {
   "cell_type": "code",
   "execution_count": 3,
   "metadata": {},
   "outputs": [],
   "source": [
    "train = pl.read_parquet('../data/hh_recsys_train_hh.pq')\n",
    "test = pl.read_parquet('../data/hh_recsys_test_hh.pq')\n",
    "# vacancies = pl.read_parquet('../data/hh_recsys_vacancies.pq')"
   ]
  },
  {
   "cell_type": "code",
   "execution_count": 4,
   "metadata": {},
   "outputs": [
    {
     "data": {
      "text/plain": [
       "(True, True)"
      ]
     },
     "execution_count": 4,
     "metadata": {},
     "output_type": "execute_result"
    }
   ],
   "source": [
    "'u_786220' in test['user_id'], 'u_786220' in train['user_id']"
   ]
  },
  {
   "cell_type": "code",
   "execution_count": 5,
   "metadata": {},
   "outputs": [
    {
     "data": {
      "text/html": [
       "<div><style>\n",
       ".dataframe > thead > tr,\n",
       ".dataframe > tbody > tr {\n",
       "  text-align: right;\n",
       "  white-space: pre-wrap;\n",
       "}\n",
       "</style>\n",
       "<small>shape: (2, 6)</small><table border=\"1\" class=\"dataframe\"><thead><tr><th>user_id</th><th>session_id</th><th>vacancy_id</th><th>action_type</th><th>action_dt</th><th>session_end</th></tr><tr><td>str</td><td>str</td><td>list[str]</td><td>list[i64]</td><td>list[datetime[ns]]</td><td>datetime[ns]</td></tr></thead><tbody><tr><td>&quot;u_332060&quot;</td><td>&quot;s_28301374&quot;</td><td>[&quot;v_2571684&quot;, &quot;v_488179&quot;, … &quot;v_2633899&quot;]</td><td>[2, 2, … 2]</td><td>[2023-11-01 00:40:58.105, 2023-11-01 00:58:13.091, … 2023-11-01 01:35:54.456]</td><td>2023-11-01 01:50:26.158</td></tr><tr><td>&quot;u_1057881&quot;</td><td>&quot;s_33868982&quot;</td><td>[&quot;v_665861&quot;]</td><td>[2]</td><td>[2023-11-01 00:23:51.452]</td><td>2023-11-01 00:23:51.452</td></tr></tbody></table></div>"
      ],
      "text/plain": [
       "shape: (2, 6)\n",
       "┌───────────┬────────────┬───────────────┬─────────────┬────────────────────────────┬──────────────┐\n",
       "│ user_id   ┆ session_id ┆ vacancy_id    ┆ action_type ┆ action_dt                  ┆ session_end  │\n",
       "│ ---       ┆ ---        ┆ ---           ┆ ---         ┆ ---                        ┆ ---          │\n",
       "│ str       ┆ str        ┆ list[str]     ┆ list[i64]   ┆ list[datetime[ns]]         ┆ datetime[ns] │\n",
       "╞═══════════╪════════════╪═══════════════╪═════════════╪════════════════════════════╪══════════════╡\n",
       "│ u_332060  ┆ s_28301374 ┆ [\"v_2571684\", ┆ [2, 2, … 2] ┆ [2023-11-01 00:40:58.105,  ┆ 2023-11-01   │\n",
       "│           ┆            ┆ \"v_488179\", … ┆             ┆ 2023-1…                    ┆ 01:50:26.158 │\n",
       "│           ┆            ┆ \"v_2…         ┆             ┆                            ┆              │\n",
       "│ u_1057881 ┆ s_33868982 ┆ [\"v_665861\"]  ┆ [2]         ┆ [2023-11-01 00:23:51.452]  ┆ 2023-11-01   │\n",
       "│           ┆            ┆               ┆             ┆                            ┆ 00:23:51.452 │\n",
       "└───────────┴────────────┴───────────────┴─────────────┴────────────────────────────┴──────────────┘"
      ]
     },
     "execution_count": 5,
     "metadata": {},
     "output_type": "execute_result"
    }
   ],
   "source": [
    "train = pl.read_parquet('../data/hh_recsys_train_hh.pq')\n",
    "train = train.with_columns(\n",
    "    session_end=pl.col('action_dt').list.max(),\n",
    ")\n",
    "train.head(2)"
   ]
  },
  {
   "cell_type": "code",
   "execution_count": 6,
   "metadata": {},
   "outputs": [
    {
     "name": "stdout",
     "output_type": "stream",
     "text": [
      "CPU times: user 5.12 s, sys: 2.67 s, total: 7.78 s\n",
      "Wall time: 3.46 s\n"
     ]
    },
    {
     "data": {
      "text/html": [
       "<div><style>\n",
       ".dataframe > thead > tr,\n",
       ".dataframe > tbody > tr {\n",
       "  text-align: right;\n",
       "  white-space: pre-wrap;\n",
       "}\n",
       "</style>\n",
       "<small>shape: (2, 5)</small><table border=\"1\" class=\"dataframe\"><thead><tr><th>session_id</th><th>vacancy_id</th><th>user_id</th><th>session_end</th><th>session_end_prev</th></tr><tr><td>str</td><td>str</td><td>str</td><td>datetime[ns]</td><td>datetime[ns]</td></tr></thead><tbody><tr><td>&quot;s_7884954&quot;</td><td>&quot;v_646272&quot;</td><td>&quot;u_639152&quot;</td><td>2023-11-01 11:26:12.954</td><td>2023-11-01 01:24:42.259</td></tr><tr><td>&quot;s_7884954&quot;</td><td>&quot;v_1970993&quot;</td><td>&quot;u_639152&quot;</td><td>2023-11-01 11:26:12.954</td><td>2023-11-01 01:24:42.259</td></tr></tbody></table></div>"
      ],
      "text/plain": [
       "shape: (2, 5)\n",
       "┌────────────┬────────────┬──────────┬─────────────────────────┬─────────────────────────┐\n",
       "│ session_id ┆ vacancy_id ┆ user_id  ┆ session_end             ┆ session_end_prev        │\n",
       "│ ---        ┆ ---        ┆ ---      ┆ ---                     ┆ ---                     │\n",
       "│ str        ┆ str        ┆ str      ┆ datetime[ns]            ┆ datetime[ns]            │\n",
       "╞════════════╪════════════╪══════════╪═════════════════════════╪═════════════════════════╡\n",
       "│ s_7884954  ┆ v_646272   ┆ u_639152 ┆ 2023-11-01 11:26:12.954 ┆ 2023-11-01 01:24:42.259 │\n",
       "│ s_7884954  ┆ v_1970993  ┆ u_639152 ┆ 2023-11-01 11:26:12.954 ┆ 2023-11-01 01:24:42.259 │\n",
       "└────────────┴────────────┴──────────┴─────────────────────────┴─────────────────────────┘"
      ]
     },
     "execution_count": 6,
     "metadata": {},
     "output_type": "execute_result"
    }
   ],
   "source": [
    "%%time\n",
    "\n",
    "targets = train.select(\n",
    "    pl.col('session_id'),\n",
    "    pl.col('vacancy_id'),\n",
    "    pl.col('action_type'),\n",
    "    pl.col('user_id'),\n",
    "    pl.col('session_end'),\n",
    "    pl.col('session_end').shift().over('user_id').alias('session_end_prev'),\n",
    ").explode(\n",
    "    ['vacancy_id', 'action_type'],\n",
    ").filter(\n",
    "    pl.col('action_type') == 1,\n",
    ").filter(\n",
    "    ~pl.col('session_end_prev').is_null()\n",
    ").select(pl.exclude('action_type'))\n",
    "\n",
    "targets.head(2)"
   ]
  },
  {
   "cell_type": "code",
   "execution_count": 73,
   "metadata": {},
   "outputs": [
    {
     "name": "stdout",
     "output_type": "stream",
     "text": [
      "CPU times: user 51 ms, sys: 4.13 ms, total: 55.1 ms\n",
      "Wall time: 31.8 ms\n"
     ]
    },
    {
     "data": {
      "text/html": [
       "<div><style>\n",
       ".dataframe > thead > tr,\n",
       ".dataframe > tbody > tr {\n",
       "  text-align: right;\n",
       "  white-space: pre-wrap;\n",
       "}\n",
       "</style>\n",
       "<small>shape: (8, 5)</small><table border=\"1\" class=\"dataframe\"><thead><tr><th>user_id</th><th>session_id</th><th>lag_hist</th><th>action_type_hist</th><th>vacancy_id_hist</th></tr><tr><td>str</td><td>str</td><td>list[i64]</td><td>list[i64]</td><td>list[str]</td></tr></thead><tbody><tr><td>&quot;u_159379&quot;</td><td>&quot;s_4190515&quot;</td><td>[]</td><td>[]</td><td>[]</td></tr><tr><td>&quot;u_159379&quot;</td><td>&quot;s_27912075&quot;</td><td>[1, 1, … 1]</td><td>[2, 2, … 2]</td><td>[&quot;v_929376&quot;, &quot;v_1346688&quot;, … &quot;v_308738&quot;]</td></tr><tr><td>&quot;u_159379&quot;</td><td>&quot;s_20061977&quot;</td><td>[1, 1, … 2]</td><td>[2, 2, … 2]</td><td>[&quot;v_929376&quot;, &quot;v_1346688&quot;, … &quot;v_929376&quot;]</td></tr><tr><td>&quot;u_159379&quot;</td><td>&quot;s_28816753&quot;</td><td>[1, 1, … 3]</td><td>[2, 2, … 2]</td><td>[&quot;v_929376&quot;, &quot;v_1346688&quot;, … &quot;v_1045162&quot;]</td></tr><tr><td>&quot;u_159379&quot;</td><td>&quot;s_25981829&quot;</td><td>[1, 1, … 4]</td><td>[2, 2, … 2]</td><td>[&quot;v_929376&quot;, &quot;v_1346688&quot;, … &quot;v_1970484&quot;]</td></tr><tr><td>&quot;u_159379&quot;</td><td>&quot;s_3504209&quot;</td><td>[1, 1, … 5]</td><td>[2, 2, … 2]</td><td>[&quot;v_929376&quot;, &quot;v_1346688&quot;, … &quot;v_2337447&quot;]</td></tr><tr><td>&quot;u_159379&quot;</td><td>&quot;s_26799506&quot;</td><td>[1, 1, … 5]</td><td>[2, 2, … 2]</td><td>[&quot;v_1596417&quot;, &quot;v_308738&quot;, … &quot;v_308738&quot;]</td></tr><tr><td>&quot;u_159379&quot;</td><td>&quot;s_20850382&quot;</td><td>[1, 1, … 5]</td><td>[2, 2, … 2]</td><td>[&quot;v_929376&quot;, &quot;v_1045162&quot;, … &quot;v_2337447&quot;]</td></tr></tbody></table></div>"
      ],
      "text/plain": [
       "shape: (8, 5)\n",
       "┌──────────┬────────────┬─────────────┬──────────────────┬───────────────────────────────────┐\n",
       "│ user_id  ┆ session_id ┆ lag_hist    ┆ action_type_hist ┆ vacancy_id_hist                   │\n",
       "│ ---      ┆ ---        ┆ ---         ┆ ---              ┆ ---                               │\n",
       "│ str      ┆ str        ┆ list[i64]   ┆ list[i64]        ┆ list[str]                         │\n",
       "╞══════════╪════════════╪═════════════╪══════════════════╪═══════════════════════════════════╡\n",
       "│ u_159379 ┆ s_4190515  ┆ []          ┆ []               ┆ []                                │\n",
       "│ u_159379 ┆ s_27912075 ┆ [1, 1, … 1] ┆ [2, 2, … 2]      ┆ [\"v_929376\", \"v_1346688\", … \"v_3… │\n",
       "│ u_159379 ┆ s_20061977 ┆ [1, 1, … 2] ┆ [2, 2, … 2]      ┆ [\"v_929376\", \"v_1346688\", … \"v_9… │\n",
       "│ u_159379 ┆ s_28816753 ┆ [1, 1, … 3] ┆ [2, 2, … 2]      ┆ [\"v_929376\", \"v_1346688\", … \"v_1… │\n",
       "│ u_159379 ┆ s_25981829 ┆ [1, 1, … 4] ┆ [2, 2, … 2]      ┆ [\"v_929376\", \"v_1346688\", … \"v_1… │\n",
       "│ u_159379 ┆ s_3504209  ┆ [1, 1, … 5] ┆ [2, 2, … 2]      ┆ [\"v_929376\", \"v_1346688\", … \"v_2… │\n",
       "│ u_159379 ┆ s_26799506 ┆ [1, 1, … 5] ┆ [2, 2, … 2]      ┆ [\"v_1596417\", \"v_308738\", … \"v_3… │\n",
       "│ u_159379 ┆ s_20850382 ┆ [1, 1, … 5] ┆ [2, 2, … 2]      ┆ [\"v_929376\", \"v_1045162\", … \"v_2… │\n",
       "└──────────┴────────────┴─────────────┴──────────────────┴───────────────────────────────────┘"
      ]
     },
     "execution_count": 73,
     "metadata": {},
     "output_type": "execute_result"
    }
   ],
   "source": [
    "%%time\n",
    "features = train.filter(\n",
    "    pl.col('user_id') == 'u_159379',\n",
    ").sort('session_end').select(\n",
    "    [\n",
    "        pl.col('user_id').alias('user_id'),\n",
    "        pl.col('session_id').alias('session_id'),\n",
    "    ] + [pl.struct(\n",
    "        pl.col('action_type'),\n",
    "        pl.col('vacancy_id'),\n",
    "        # pl.col('action_dt'),\n",
    "        pl.col('action_dt').list.len().map_elements(\n",
    "            lambda l: l,\n",
    "            return_dtype=pl.List(pl.UInt32),\n",
    "        ).alias('lag'),\n",
    "    ).alias(f\"lag_{i}\").shift(i).over('user_id') for i in range(1, 6)],\n",
    ").select(\n",
    "    pl.exclude([f\"lag_{i}\" for i in range(1, 6)]),\n",
    "    pl.concat_list([pl.col(f\"lag_{i}\").struct.field('lag').fill_null([]) for i in range(1, 6)[::-1]]).map_elements(\n",
    "        lambda l: [i + 1 for i, j in enumerate(l) for _ in range(j)],\n",
    "    ).alias(\"lag_hist\"),\n",
    "    pl.concat_list([pl.col(f\"lag_{i}\").struct.field('action_type').fill_null([]) for i in range(1, 6)[::-1]]).alias(\"action_type_hist\"),\n",
    "    pl.concat_list([pl.col(f\"lag_{i}\").struct.field('vacancy_id').fill_null([]) for i in range(1, 6)[::-1]]).alias(\"vacancy_id_hist\"),\n",
    "    # pl.concat_list([pl.col(f\"lag_{i}\").struct.field('action_dt').fill_null([]) for i in range(1, 6)]).alias(\"action_dt_hist\"),\n",
    ")\n",
    "features.head(8)"
   ]
  },
  {
   "cell_type": "code",
   "execution_count": 75,
   "metadata": {},
   "outputs": [
    {
     "data": {
      "text/html": [
       "<div><style>\n",
       ".dataframe > thead > tr,\n",
       ".dataframe > tbody > tr {\n",
       "  text-align: right;\n",
       "  white-space: pre-wrap;\n",
       "}\n",
       "</style>\n",
       "<small>shape: (2, 7)</small><table border=\"1\" class=\"dataframe\"><thead><tr><th>user_id</th><th>session_id</th><th>vacancy_id_hist</th><th>lag_hist</th><th>action_1</th><th>action_2</th><th>action_3</th></tr><tr><td>str</td><td>str</td><td>str</td><td>i64</td><td>u32</td><td>u32</td><td>u32</td></tr></thead><tbody><tr><td>&quot;u_159379&quot;</td><td>&quot;s_27912075&quot;</td><td>&quot;v_1596417&quot;</td><td>1</td><td>0</td><td>1</td><td>0</td></tr><tr><td>&quot;u_159379&quot;</td><td>&quot;s_27912075&quot;</td><td>&quot;v_2457518&quot;</td><td>1</td><td>0</td><td>1</td><td>0</td></tr></tbody></table></div>"
      ],
      "text/plain": [
       "shape: (2, 7)\n",
       "┌──────────┬────────────┬─────────────────┬──────────┬──────────┬──────────┬──────────┐\n",
       "│ user_id  ┆ session_id ┆ vacancy_id_hist ┆ lag_hist ┆ action_1 ┆ action_2 ┆ action_3 │\n",
       "│ ---      ┆ ---        ┆ ---             ┆ ---      ┆ ---      ┆ ---      ┆ ---      │\n",
       "│ str      ┆ str        ┆ str             ┆ i64      ┆ u32      ┆ u32      ┆ u32      │\n",
       "╞══════════╪════════════╪═════════════════╪══════════╪══════════╪══════════╪══════════╡\n",
       "│ u_159379 ┆ s_27912075 ┆ v_1596417       ┆ 1        ┆ 0        ┆ 1        ┆ 0        │\n",
       "│ u_159379 ┆ s_27912075 ┆ v_2457518       ┆ 1        ┆ 0        ┆ 1        ┆ 0        │\n",
       "└──────────┴────────────┴─────────────────┴──────────┴──────────┴──────────┴──────────┘"
      ]
     },
     "execution_count": 75,
     "metadata": {},
     "output_type": "execute_result"
    }
   ],
   "source": [
    "user_x_session_x_vac = features.explode(\n",
    "    'lag_hist',\n",
    "    'action_type_hist',\n",
    "    'vacancy_id_hist',\n",
    ").filter(~pl.col('lag_hist').is_null()).group_by(\n",
    "    'user_id',\n",
    "    'session_id',\n",
    "    'vacancy_id_hist',\n",
    ").agg(\n",
    "    pl.col('lag_hist').min(),\n",
    "    (pl.col('action_type_hist') == 1).sum().alias('action_1'),\n",
    "    (pl.col('action_type_hist') == 2).sum().alias('action_2'),\n",
    "    (pl.col('action_type_hist') == 3).sum().alias('action_3'),\n",
    ")\n",
    "session_x_vac.head(2)"
   ]
  },
  {
   "cell_type": "code",
   "execution_count": 98,
   "metadata": {},
   "outputs": [
    {
     "data": {
      "text/html": [
       "<div><style>\n",
       ".dataframe > thead > tr,\n",
       ".dataframe > tbody > tr {\n",
       "  text-align: right;\n",
       "  white-space: pre-wrap;\n",
       "}\n",
       "</style>\n",
       "<small>shape: (5, 14)</small><table border=\"1\" class=\"dataframe\"><thead><tr><th>user_id</th><th>session_id</th><th>area.id</th><th>area.regionId</th><th>employment</th><th>workSchedule</th><th>workExperience</th><th>name</th><th>company.id</th><th>compensation.currencyCode</th><th>compensation.from.min</th><th>compensation.from.max</th><th>compensation.to.max</th><th>compensation.to.min</th></tr><tr><td>str</td><td>str</td><td>str</td><td>str</td><td>str</td><td>str</td><td>str</td><td>str</td><td>str</td><td>str</td><td>i64</td><td>i64</td><td>i64</td><td>i64</td></tr></thead><tbody><tr><td>&quot;u_159379&quot;</td><td>&quot;s_27662744&quot;</td><td>&quot;a_1756&quot;</td><td>&quot;ar_41&quot;</td><td>&quot;full&quot;</td><td>&quot;fullDay&quot;</td><td>&quot;between1And3&quot;</td><td>&quot;Специалист слу…</td><td>&quot;c_96070&quot;</td><td>&quot;RUR&quot;</td><td>30000</td><td>55000</td><td>70000</td><td>45000</td></tr><tr><td>&quot;u_159379&quot;</td><td>&quot;s_26799506&quot;</td><td>&quot;a_1756&quot;</td><td>&quot;ar_41&quot;</td><td>&quot;full&quot;</td><td>&quot;fullDay&quot;</td><td>&quot;noExperience&quot;</td><td>&quot;Младший менедж…</td><td>&quot;c_197879&quot;</td><td>&quot;RUR&quot;</td><td>50000</td><td>90000</td><td>105000</td><td>50000</td></tr><tr><td>&quot;u_159379&quot;</td><td>&quot;s_14669609&quot;</td><td>&quot;a_1756&quot;</td><td>&quot;ar_41&quot;</td><td>&quot;full&quot;</td><td>&quot;fullDay&quot;</td><td>&quot;between1And3&quot;</td><td>&quot;Специалист слу…</td><td>&quot;c_96070&quot;</td><td>&quot;RUR&quot;</td><td>30000</td><td>90000</td><td>105000</td><td>45000</td></tr><tr><td>&quot;u_159379&quot;</td><td>&quot;s_20061977&quot;</td><td>&quot;a_1756&quot;</td><td>&quot;ar_41&quot;</td><td>&quot;full&quot;</td><td>&quot;fullDay&quot;</td><td>&quot;between1And3&quot;</td><td>&quot;Специалист слу…</td><td>&quot;c_255843&quot;</td><td>&quot;RUR&quot;</td><td>50000</td><td>110000</td><td>70000</td><td>50000</td></tr><tr><td>&quot;u_159379&quot;</td><td>&quot;s_520442&quot;</td><td>&quot;a_1756&quot;</td><td>&quot;ar_41&quot;</td><td>&quot;full&quot;</td><td>&quot;fullDay&quot;</td><td>&quot;between1And3&quot;</td><td>&quot;Специалист слу…</td><td>&quot;c_96070&quot;</td><td>&quot;RUR&quot;</td><td>30000</td><td>90000</td><td>105000</td><td>45000</td></tr></tbody></table></div>"
      ],
      "text/plain": [
       "shape: (5, 14)\n",
       "┌──────────┬────────────┬─────────┬────────────┬───┬───────────┬───────────┬───────────┬───────────┐\n",
       "│ user_id  ┆ session_id ┆ area.id ┆ area.regio ┆ … ┆ compensat ┆ compensat ┆ compensat ┆ compensat │\n",
       "│ ---      ┆ ---        ┆ ---     ┆ nId        ┆   ┆ ion.from. ┆ ion.from. ┆ ion.to.ma ┆ ion.to.mi │\n",
       "│ str      ┆ str        ┆ str     ┆ ---        ┆   ┆ min       ┆ max       ┆ x         ┆ n         │\n",
       "│          ┆            ┆         ┆ str        ┆   ┆ ---       ┆ ---       ┆ ---       ┆ ---       │\n",
       "│          ┆            ┆         ┆            ┆   ┆ i64       ┆ i64       ┆ i64       ┆ i64       │\n",
       "╞══════════╪════════════╪═════════╪════════════╪═══╪═══════════╪═══════════╪═══════════╪═══════════╡\n",
       "│ u_159379 ┆ s_27662744 ┆ a_1756  ┆ ar_41      ┆ … ┆ 30000     ┆ 55000     ┆ 70000     ┆ 45000     │\n",
       "│ u_159379 ┆ s_26799506 ┆ a_1756  ┆ ar_41      ┆ … ┆ 50000     ┆ 90000     ┆ 105000    ┆ 50000     │\n",
       "│ u_159379 ┆ s_14669609 ┆ a_1756  ┆ ar_41      ┆ … ┆ 30000     ┆ 90000     ┆ 105000    ┆ 45000     │\n",
       "│ u_159379 ┆ s_20061977 ┆ a_1756  ┆ ar_41      ┆ … ┆ 50000     ┆ 110000    ┆ 70000     ┆ 50000     │\n",
       "│ u_159379 ┆ s_520442   ┆ a_1756  ┆ ar_41      ┆ … ┆ 30000     ┆ 90000     ┆ 105000    ┆ 45000     │\n",
       "└──────────┴────────────┴─────────┴────────────┴───┴───────────┴───────────┴───────────┴───────────┘"
      ]
     },
     "execution_count": 98,
     "metadata": {},
     "output_type": "execute_result"
    }
   ],
   "source": [
    "user_x_session = features.explode(\n",
    "    'lag_hist',\n",
    "    'action_type_hist',\n",
    "    'vacancy_id_hist',\n",
    ").filter(\n",
    "    ~pl.col('lag_hist').is_null()\n",
    ").join(\n",
    "    vac,\n",
    "    left_on='vacancy_id_hist',\n",
    "    right_on='vacancy_id',\n",
    ").group_by(\n",
    "    'user_id',\n",
    "    'session_id',\n",
    ").agg(\n",
    "    pl.col('area.id').mode().first(),\n",
    "    pl.col('area.regionId').mode().first(),\n",
    "    pl.col('employment').mode().first(),\n",
    "    pl.col('workSchedule').mode().first(),\n",
    "    pl.col('workExperience').mode().first(),\n",
    "    pl.col('name').mode().first(),\n",
    "    pl.col('company.id').mode().first(),\n",
    "    pl.col('compensation.currencyCode').mode().first(),\n",
    "    pl.col('compensation.from').min().alias('compensation.from.min'),\n",
    "    pl.col('compensation.from').max().alias('compensation.from.max'),\n",
    "    pl.col('compensation.to').max().alias('compensation.to.max'),\n",
    "    pl.col('compensation.to').min().alias('compensation.to.min'),\n",
    ")\n",
    "\n",
    "user_x_session.head()"
   ]
  },
  {
   "cell_type": "code",
   "execution_count": 10,
   "metadata": {},
   "outputs": [],
   "source": [
    "vacancies.drop(['description', 'keySkills.keySkill']).to_pandas().to_feather('../data/vac.no_desc.fth')"
   ]
  },
  {
   "cell_type": "code",
   "execution_count": 4,
   "metadata": {},
   "outputs": [],
   "source": [
    "train = train.to_pandas()\n",
    "test = test.to_pandas()\n",
    "# vacancies = vacancies.to_pandas()"
   ]
  },
  {
   "cell_type": "code",
   "execution_count": 7,
   "metadata": {},
   "outputs": [],
   "source": [
    "train[train['user_id'].apply(lambda i: hash(i) % 100 == 0)].to_feather('../data/train.fth')"
   ]
  },
  {
   "cell_type": "code",
   "execution_count": 6,
   "metadata": {},
   "outputs": [
    {
     "data": {
      "text/html": [
       "<div>\n",
       "<style scoped>\n",
       "    .dataframe tbody tr th:only-of-type {\n",
       "        vertical-align: middle;\n",
       "    }\n",
       "\n",
       "    .dataframe tbody tr th {\n",
       "        vertical-align: top;\n",
       "    }\n",
       "\n",
       "    .dataframe thead th {\n",
       "        text-align: right;\n",
       "    }\n",
       "</style>\n",
       "<table border=\"1\" class=\"dataframe\">\n",
       "  <thead>\n",
       "    <tr style=\"text-align: right;\">\n",
       "      <th></th>\n",
       "      <th>user_id</th>\n",
       "      <th>session_id</th>\n",
       "      <th>vacancy_id</th>\n",
       "      <th>action_type</th>\n",
       "      <th>action_dt</th>\n",
       "    </tr>\n",
       "  </thead>\n",
       "  <tbody>\n",
       "    <tr>\n",
       "      <th>0</th>\n",
       "      <td>u_332060</td>\n",
       "      <td>s_28301374</td>\n",
       "      <td>[v_2571684, v_488179, v_2389179, v_1393783, v_...</td>\n",
       "      <td>[2, 2, 2, 2, 2, 2, 1, 1, 2, 1, 2, 1, 2, 2, 2, ...</td>\n",
       "      <td>[2023-11-01T00:40:58.105000000, 2023-11-01T00:...</td>\n",
       "    </tr>\n",
       "    <tr>\n",
       "      <th>1</th>\n",
       "      <td>u_1057881</td>\n",
       "      <td>s_33868982</td>\n",
       "      <td>[v_665861]</td>\n",
       "      <td>[2]</td>\n",
       "      <td>[2023-11-01T00:23:51.452000000]</td>\n",
       "    </tr>\n",
       "  </tbody>\n",
       "</table>\n",
       "</div>"
      ],
      "text/plain": [
       "     user_id  session_id                                         vacancy_id  \\\n",
       "0   u_332060  s_28301374  [v_2571684, v_488179, v_2389179, v_1393783, v_...   \n",
       "1  u_1057881  s_33868982                                         [v_665861]   \n",
       "\n",
       "                                         action_type  \\\n",
       "0  [2, 2, 2, 2, 2, 2, 1, 1, 2, 1, 2, 1, 2, 2, 2, ...   \n",
       "1                                                [2]   \n",
       "\n",
       "                                           action_dt  \n",
       "0  [2023-11-01T00:40:58.105000000, 2023-11-01T00:...  \n",
       "1                    [2023-11-01T00:23:51.452000000]  "
      ]
     },
     "execution_count": 6,
     "metadata": {},
     "output_type": "execute_result"
    }
   ],
   "source": [
    "train.head(2)"
   ]
  },
  {
   "cell_type": "code",
   "execution_count": 7,
   "metadata": {},
   "outputs": [
    {
     "data": {
      "text/html": [
       "<div>\n",
       "<style scoped>\n",
       "    .dataframe tbody tr th:only-of-type {\n",
       "        vertical-align: middle;\n",
       "    }\n",
       "\n",
       "    .dataframe tbody tr th {\n",
       "        vertical-align: top;\n",
       "    }\n",
       "\n",
       "    .dataframe thead th {\n",
       "        text-align: right;\n",
       "    }\n",
       "</style>\n",
       "<table border=\"1\" class=\"dataframe\">\n",
       "  <thead>\n",
       "    <tr style=\"text-align: right;\">\n",
       "      <th></th>\n",
       "      <th>user_id</th>\n",
       "      <th>session_id</th>\n",
       "      <th>vacancy_id</th>\n",
       "      <th>action_type</th>\n",
       "      <th>action_dt</th>\n",
       "    </tr>\n",
       "  </thead>\n",
       "  <tbody>\n",
       "    <tr>\n",
       "      <th>0</th>\n",
       "      <td>u_482520</td>\n",
       "      <td>s_25018731</td>\n",
       "      <td>[v_2597196, v_1223061, v_1223061]</td>\n",
       "      <td>[2, 2, 1]</td>\n",
       "      <td>[2023-11-19T12:03:13.089000000, 2023-11-19T12:...</td>\n",
       "    </tr>\n",
       "    <tr>\n",
       "      <th>1</th>\n",
       "      <td>u_582132</td>\n",
       "      <td>s_481216</td>\n",
       "      <td>[v_470400, v_470400, v_1530783]</td>\n",
       "      <td>[2, 1, 2]</td>\n",
       "      <td>[2023-11-21T15:39:47.981000000, 2023-11-21T15:...</td>\n",
       "    </tr>\n",
       "  </tbody>\n",
       "</table>\n",
       "</div>"
      ],
      "text/plain": [
       "    user_id  session_id                         vacancy_id action_type  \\\n",
       "0  u_482520  s_25018731  [v_2597196, v_1223061, v_1223061]   [2, 2, 1]   \n",
       "1  u_582132    s_481216    [v_470400, v_470400, v_1530783]   [2, 1, 2]   \n",
       "\n",
       "                                           action_dt  \n",
       "0  [2023-11-19T12:03:13.089000000, 2023-11-19T12:...  \n",
       "1  [2023-11-21T15:39:47.981000000, 2023-11-21T15:...  "
      ]
     },
     "execution_count": 7,
     "metadata": {},
     "output_type": "execute_result"
    }
   ],
   "source": [
    "test.head(2)"
   ]
  },
  {
   "cell_type": "code",
   "execution_count": 8,
   "metadata": {},
   "outputs": [],
   "source": [
    "# vacancies.head(2)"
   ]
  },
  {
   "cell_type": "code",
   "execution_count": null,
   "metadata": {},
   "outputs": [],
   "source": [
    "predictions = test.select(pl.col('vacancy_id').list.unique(maintain_order=True).list.tail(2))['vacancy_id'].to_list()\n",
    "test = test.with_columns(pl.lit(predictions).alias('predictions'))\n",
    "\n",
    "test.select(['user_id', 'session_id', 'predictions']).write_parquet('../data/submission.pq')"
   ]
  },
  {
   "cell_type": "code",
   "execution_count": 24,
   "metadata": {},
   "outputs": [
    {
     "data": {
      "text/html": [
       "<div><style>\n",
       ".dataframe > thead > tr,\n",
       ".dataframe > tbody > tr {\n",
       "  text-align: right;\n",
       "  white-space: pre-wrap;\n",
       "}\n",
       "</style>\n",
       "<small>shape: (83_189, 6)</small><table border=\"1\" class=\"dataframe\"><thead><tr><th>user_id</th><th>session_id</th><th>vacancy_id</th><th>action_type</th><th>action_dt</th><th>predictions</th></tr><tr><td>str</td><td>str</td><td>list[str]</td><td>list[i64]</td><td>list[datetime[ns]]</td><td>list[str]</td></tr></thead><tbody><tr><td>&quot;u_482520&quot;</td><td>&quot;s_25018731&quot;</td><td>[&quot;v_2597196&quot;, &quot;v_1223061&quot;, &quot;v_1223061&quot;]</td><td>[2, 2, 1]</td><td>[2023-11-19 12:03:13.089, 2023-11-19 12:03:30.396, 2023-11-19 12:05:03.473]</td><td>[&quot;v_2597196&quot;, &quot;v_1223061&quot;]</td></tr><tr><td>&quot;u_582132&quot;</td><td>&quot;s_481216&quot;</td><td>[&quot;v_470400&quot;, &quot;v_470400&quot;, &quot;v_1530783&quot;]</td><td>[2, 1, 2]</td><td>[2023-11-21 15:39:47.981, 2023-11-21 15:43:57.620, 2023-11-21 15:44:37.982]</td><td>[&quot;v_470400&quot;, &quot;v_1530783&quot;]</td></tr><tr><td>&quot;u_212584&quot;</td><td>&quot;s_16918781&quot;</td><td>[&quot;v_1572055&quot;, &quot;v_1572055&quot;, … &quot;v_1329494&quot;]</td><td>[2, 3, … 1]</td><td>[2023-11-16 08:41:47.031, 2023-11-16 08:45:21.403, … 2023-11-16 09:05:27.379]</td><td>[&quot;v_1592343&quot;, &quot;v_1329494&quot;]</td></tr><tr><td>&quot;u_425177&quot;</td><td>&quot;s_17505104&quot;</td><td>[&quot;v_1375331&quot;, &quot;v_1922852&quot;]</td><td>[2, 2]</td><td>[2023-11-17 12:42:18.513, 2023-11-17 12:43:52.744]</td><td>[&quot;v_1375331&quot;, &quot;v_1922852&quot;]</td></tr><tr><td>&quot;u_700997&quot;</td><td>&quot;s_15528830&quot;</td><td>[&quot;v_2152997&quot;, &quot;v_2152997&quot;, &quot;v_1217630&quot;]</td><td>[2, 1, 2]</td><td>[2023-11-16 17:22:53.530, 2023-11-16 17:23:19.885, 2023-11-16 17:23:33.472]</td><td>[&quot;v_2152997&quot;, &quot;v_1217630&quot;]</td></tr><tr><td>&quot;u_687201&quot;</td><td>&quot;s_11187326&quot;</td><td>[&quot;v_2602959&quot;, &quot;v_549337&quot;, … &quot;v_212060&quot;]</td><td>[2, 2, … 1]</td><td>[2023-11-21 14:41:30.546, 2023-11-21 15:00:25.506, … 2023-11-21 15:24:56.271]</td><td>[&quot;v_698513&quot;, &quot;v_212060&quot;]</td></tr><tr><td>&quot;u_573219&quot;</td><td>&quot;s_27394215&quot;</td><td>[&quot;v_1836184&quot;, &quot;v_2733253&quot;, … &quot;v_2297339&quot;]</td><td>[1, 2, … 2]</td><td>[2023-11-21 18:48:43.424, 2023-11-21 18:49:12.552, … 2023-11-21 19:48:55.704]</td><td>[&quot;v_1828011&quot;, &quot;v_2297339&quot;]</td></tr><tr><td>&quot;u_1082782&quot;</td><td>&quot;s_30341164&quot;</td><td>[&quot;v_1026036&quot;, &quot;v_1026036&quot;, … &quot;v_206700&quot;]</td><td>[2, 1, … 2]</td><td>[2023-11-17 02:54:19.561, 2023-11-17 02:54:50.486, … 2023-11-17 03:21:22.008]</td><td>[&quot;v_206700&quot;, &quot;v_528671&quot;]</td></tr><tr><td>&quot;u_81444&quot;</td><td>&quot;s_1909964&quot;</td><td>[&quot;v_2497384&quot;, &quot;v_1480870&quot;, … &quot;v_1500697&quot;]</td><td>[2, 2, … 1]</td><td>[2023-11-15 12:38:34.579, 2023-11-15 13:03:41.360, … 2023-11-15 13:05:15.916]</td><td>[&quot;v_36093&quot;, &quot;v_1500697&quot;]</td></tr><tr><td>&quot;u_858357&quot;</td><td>&quot;s_12463318&quot;</td><td>[&quot;v_1085881&quot;, &quot;v_522338&quot;, … &quot;v_1776027&quot;]</td><td>[2, 2, … 2]</td><td>[2023-11-18 11:58:33.953, 2023-11-18 12:01:09.562, … 2023-11-18 14:39:24.255]</td><td>[&quot;v_2170682&quot;, &quot;v_93799&quot;]</td></tr><tr><td>&quot;u_136080&quot;</td><td>&quot;s_25066108&quot;</td><td>[&quot;v_1167642&quot;, &quot;v_613829&quot;, … &quot;v_2061106&quot;]</td><td>[2, 2, … 2]</td><td>[2023-11-21 05:09:14.167, 2023-11-21 05:10:02.996, … 2023-11-21 05:17:03.842]</td><td>[&quot;v_202425&quot;, &quot;v_2061106&quot;]</td></tr><tr><td>&quot;u_361893&quot;</td><td>&quot;s_12897073&quot;</td><td>[&quot;v_2188274&quot;, &quot;v_941470&quot;, … &quot;v_450701&quot;]</td><td>[2, 2, … 2]</td><td>[2023-11-21 16:03:36.003, 2023-11-21 16:04:07.515, … 2023-11-21 16:24:26.163]</td><td>[&quot;v_2599835&quot;, &quot;v_450701&quot;]</td></tr><tr><td>&hellip;</td><td>&hellip;</td><td>&hellip;</td><td>&hellip;</td><td>&hellip;</td><td>&hellip;</td></tr><tr><td>&quot;u_27420&quot;</td><td>&quot;s_15647766&quot;</td><td>[&quot;v_779522&quot;, &quot;v_32918&quot;, … &quot;v_2382404&quot;]</td><td>[2, 2, … 2]</td><td>[2023-11-15 09:46:24.682, 2023-11-15 09:46:52.048, … 2023-11-15 09:55:07.684]</td><td>[&quot;v_2206376&quot;, &quot;v_2382404&quot;]</td></tr><tr><td>&quot;u_101925&quot;</td><td>&quot;s_9312767&quot;</td><td>[&quot;v_899404&quot;, &quot;v_2009859&quot;]</td><td>[2, 2]</td><td>[2023-11-17 10:54:18.637, 2023-11-17 12:19:55.239]</td><td>[&quot;v_899404&quot;, &quot;v_2009859&quot;]</td></tr><tr><td>&quot;u_105702&quot;</td><td>&quot;s_27857907&quot;</td><td>[&quot;v_473549&quot;, &quot;v_1137408&quot;]</td><td>[2, 2]</td><td>[2023-11-18 09:25:22.487, 2023-11-18 09:27:10.980]</td><td>[&quot;v_473549&quot;, &quot;v_1137408&quot;]</td></tr><tr><td>&quot;u_485573&quot;</td><td>&quot;s_19643559&quot;</td><td>[&quot;v_1032129&quot;, &quot;v_1340903&quot;, &quot;v_1032129&quot;]</td><td>[2, 2, 2]</td><td>[2023-11-21 14:44:58.274, 2023-11-21 15:11:34.645, 2023-11-21 15:11:56.029]</td><td>[&quot;v_1032129&quot;, &quot;v_1340903&quot;]</td></tr><tr><td>&quot;u_737688&quot;</td><td>&quot;s_5225203&quot;</td><td>[&quot;v_616873&quot;, &quot;v_2610004&quot;]</td><td>[2, 2]</td><td>[2023-11-20 12:37:56.056, 2023-11-20 12:41:23.243]</td><td>[&quot;v_616873&quot;, &quot;v_2610004&quot;]</td></tr><tr><td>&quot;u_366097&quot;</td><td>&quot;s_20110640&quot;</td><td>[&quot;v_307100&quot;, &quot;v_2040988&quot;, … &quot;v_2586611&quot;]</td><td>[2, 2, … 1]</td><td>[2023-11-17 15:31:42.944, 2023-11-17 15:32:01.187, … 2023-11-17 15:36:51.248]</td><td>[&quot;v_1603336&quot;, &quot;v_2586611&quot;]</td></tr><tr><td>&quot;u_995221&quot;</td><td>&quot;s_21000652&quot;</td><td>[&quot;v_528661&quot;, &quot;v_528661&quot;, … &quot;v_199518&quot;]</td><td>[2, 1, … 2]</td><td>[2023-11-15 14:00:32.515, 2023-11-15 14:01:08.165, … 2023-11-15 14:04:31.812]</td><td>[&quot;v_99630&quot;, &quot;v_199518&quot;]</td></tr><tr><td>&quot;u_499368&quot;</td><td>&quot;s_19158589&quot;</td><td>[&quot;v_1716634&quot;, &quot;v_2232327&quot;, … &quot;v_1993650&quot;]</td><td>[2, 2, … 2]</td><td>[2023-11-18 03:15:15.530, 2023-11-18 03:19:20.971, … 2023-11-18 03:35:12.020]</td><td>[&quot;v_99981&quot;, &quot;v_1993650&quot;]</td></tr><tr><td>&quot;u_1084868&quot;</td><td>&quot;s_24756162&quot;</td><td>[&quot;v_395706&quot;, &quot;v_2405231&quot;]</td><td>[2, 2]</td><td>[2023-11-15 18:06:16.550, 2023-11-15 18:07:18.447]</td><td>[&quot;v_395706&quot;, &quot;v_2405231&quot;]</td></tr><tr><td>&quot;u_1138032&quot;</td><td>&quot;s_25291467&quot;</td><td>[&quot;v_1213925&quot;, &quot;v_1213925&quot;, … &quot;v_2359832&quot;]</td><td>[2, 1, … 1]</td><td>[2023-11-19 23:19:44.092, 2023-11-19 23:27:22.739, … 2023-11-19 23:27:51.152]</td><td>[&quot;v_1213925&quot;, &quot;v_2359832&quot;]</td></tr><tr><td>&quot;u_608102&quot;</td><td>&quot;s_18813020&quot;</td><td>[&quot;v_933773&quot;, &quot;v_933773&quot;, … &quot;v_2667466&quot;]</td><td>[3, 2, … 2]</td><td>[2023-11-16 15:40:09.408, 2023-11-16 15:40:09.448, … 2023-11-16 16:18:05.927]</td><td>[&quot;v_1508520&quot;, &quot;v_2667466&quot;]</td></tr><tr><td>&quot;u_847738&quot;</td><td>&quot;s_7662913&quot;</td><td>[&quot;v_875568&quot;, &quot;v_2677852&quot;, … &quot;v_1462102&quot;]</td><td>[2, 2, … 2]</td><td>[2023-11-17 13:34:03.386, 2023-11-17 13:34:57.675, … 2023-11-17 14:27:46.817]</td><td>[&quot;v_1764585&quot;, &quot;v_1462102&quot;]</td></tr></tbody></table></div>"
      ],
      "text/plain": [
       "shape: (83_189, 6)\n",
       "┌───────────┬────────────┬────────────────┬─────────────┬───────────────────────┬───────────────┐\n",
       "│ user_id   ┆ session_id ┆ vacancy_id     ┆ action_type ┆ action_dt             ┆ predictions   │\n",
       "│ ---       ┆ ---        ┆ ---            ┆ ---         ┆ ---                   ┆ ---           │\n",
       "│ str       ┆ str        ┆ list[str]      ┆ list[i64]   ┆ list[datetime[ns]]    ┆ list[str]     │\n",
       "╞═══════════╪════════════╪════════════════╪═════════════╪═══════════════════════╪═══════════════╡\n",
       "│ u_482520  ┆ s_25018731 ┆ [\"v_2597196\",  ┆ [2, 2, 1]   ┆ [2023-11-19           ┆ [\"v_2597196\", │\n",
       "│           ┆            ┆ \"v_1223061\",   ┆             ┆ 12:03:13.089, 2023-1… ┆ \"v_1223061\"]  │\n",
       "│           ┆            ┆ \"v_12…         ┆             ┆                       ┆               │\n",
       "│ u_582132  ┆ s_481216   ┆ [\"v_470400\",   ┆ [2, 1, 2]   ┆ [2023-11-21           ┆ [\"v_470400\",  │\n",
       "│           ┆            ┆ \"v_470400\",    ┆             ┆ 15:39:47.981, 2023-1… ┆ \"v_1530783\"]  │\n",
       "│           ┆            ┆ \"v_1530…       ┆             ┆                       ┆               │\n",
       "│ u_212584  ┆ s_16918781 ┆ [\"v_1572055\",  ┆ [2, 3, … 1] ┆ [2023-11-16           ┆ [\"v_1592343\", │\n",
       "│           ┆            ┆ \"v_1572055\", … ┆             ┆ 08:41:47.031, 2023-1… ┆ \"v_1329494\"]  │\n",
       "│           ┆            ┆ \"v_…           ┆             ┆                       ┆               │\n",
       "│ u_425177  ┆ s_17505104 ┆ [\"v_1375331\",  ┆ [2, 2]      ┆ [2023-11-17           ┆ [\"v_1375331\", │\n",
       "│           ┆            ┆ \"v_1922852\"]   ┆             ┆ 12:42:18.513, 2023-1… ┆ \"v_1922852\"]  │\n",
       "│ …         ┆ …          ┆ …              ┆ …           ┆ …                     ┆ …             │\n",
       "│ u_1084868 ┆ s_24756162 ┆ [\"v_395706\",   ┆ [2, 2]      ┆ [2023-11-15           ┆ [\"v_395706\",  │\n",
       "│           ┆            ┆ \"v_2405231\"]   ┆             ┆ 18:06:16.550, 2023-1… ┆ \"v_2405231\"]  │\n",
       "│ u_1138032 ┆ s_25291467 ┆ [\"v_1213925\",  ┆ [2, 1, … 1] ┆ [2023-11-19           ┆ [\"v_1213925\", │\n",
       "│           ┆            ┆ \"v_1213925\", … ┆             ┆ 23:19:44.092, 2023-1… ┆ \"v_2359832\"]  │\n",
       "│           ┆            ┆ \"v_…           ┆             ┆                       ┆               │\n",
       "│ u_608102  ┆ s_18813020 ┆ [\"v_933773\",   ┆ [3, 2, … 2] ┆ [2023-11-16           ┆ [\"v_1508520\", │\n",
       "│           ┆            ┆ \"v_933773\", …  ┆             ┆ 15:40:09.408, 2023-1… ┆ \"v_2667466\"]  │\n",
       "│           ┆            ┆ \"v_26…         ┆             ┆                       ┆               │\n",
       "│ u_847738  ┆ s_7662913  ┆ [\"v_875568\",   ┆ [2, 2, … 2] ┆ [2023-11-17           ┆ [\"v_1764585\", │\n",
       "│           ┆            ┆ \"v_2677852\", … ┆             ┆ 13:34:03.386, 2023-1… ┆ \"v_1462102\"]  │\n",
       "│           ┆            ┆ \"v_1…          ┆             ┆                       ┆               │\n",
       "└───────────┴────────────┴────────────────┴─────────────┴───────────────────────┴───────────────┘"
      ]
     },
     "execution_count": 24,
     "metadata": {},
     "output_type": "execute_result"
    }
   ],
   "source": [
    "test"
   ]
  },
  {
   "cell_type": "markdown",
   "metadata": {},
   "source": [
    "# Simple ALS"
   ]
  },
  {
   "cell_type": "code",
   "execution_count": 25,
   "metadata": {},
   "outputs": [
    {
     "name": "stderr",
     "output_type": "stream",
     "text": [
      "/tmp/ipykernel_583187/3619716076.py:15: DeprecationWarning: `map_dict` is deprecated. It has been renamed to `replace`. The default behavior has changed to keep any values not present in the mapping unchanged. Pass `default=None` to keep existing behavior.\n",
      "  users = pairs['user_id'].map_dict(user2idx).to_numpy()\n",
      "/tmp/ipykernel_583187/3619716076.py:16: DeprecationWarning: `map_dict` is deprecated. It has been renamed to `replace`. The default behavior has changed to keep any values not present in the mapping unchanged. Pass `default=None` to keep existing behavior.\n",
      "  vacancies = pairs['vacancy_id'].map_dict(vac2idx).to_numpy()\n",
      "/tmp/ipykernel_583187/3619716076.py:17: DeprecationWarning: `map_dict` is deprecated. It has been renamed to `replace`. The default behavior has changed to keep any values not present in the mapping unchanged. Pass `default=None` to keep existing behavior.\n",
      "  preferences = pairs['action_type'].map_dict(action_weights).to_numpy()\n"
     ]
    }
   ],
   "source": [
    "unique_users = train['user_id'].unique().to_list()\n",
    "unique_vacancies = train['vacancy_id'].explode().unique().to_list()\n",
    "\n",
    "user2idx = {user_id: idx for idx, user_id in enumerate(unique_users)}\n",
    "vac2idx = {vac_id: idx for idx, vac_id in enumerate(unique_vacancies)}\n",
    "\n",
    "idx2vac = {idx: vac_id for vac_id, idx in vac2idx.items()}\n",
    "action_weights = {\n",
    "    1: 4.0,\n",
    "    2: 1.0,\n",
    "    3: 2.0\n",
    "}\n",
    "\n",
    "pairs = train.select(['user_id', 'vacancy_id', 'action_type']).explode(('vacancy_id', 'action_type'))\n",
    "users = pairs['user_id'].map_dict(user2idx).to_numpy()\n",
    "vacancies = pairs['vacancy_id'].map_dict(vac2idx).to_numpy()\n",
    "preferences = pairs['action_type'].map_dict(action_weights).to_numpy()"
   ]
  },
  {
   "cell_type": "code",
   "execution_count": 33,
   "metadata": {},
   "outputs": [
    {
     "data": {
      "text/html": [
       "<div><style>\n",
       ".dataframe > thead > tr,\n",
       ".dataframe > tbody > tr {\n",
       "  text-align: right;\n",
       "  white-space: pre-wrap;\n",
       "}\n",
       "</style>\n",
       "<small>shape: (21_516_070, 3)</small><table border=\"1\" class=\"dataframe\"><thead><tr><th>user_id</th><th>vacancy_id</th><th>action_type</th></tr><tr><td>str</td><td>str</td><td>i64</td></tr></thead><tbody><tr><td>&quot;u_332060&quot;</td><td>&quot;v_2571684&quot;</td><td>2</td></tr><tr><td>&quot;u_332060&quot;</td><td>&quot;v_488179&quot;</td><td>2</td></tr><tr><td>&quot;u_332060&quot;</td><td>&quot;v_2389179&quot;</td><td>2</td></tr><tr><td>&quot;u_332060&quot;</td><td>&quot;v_1393783&quot;</td><td>2</td></tr><tr><td>&quot;u_332060&quot;</td><td>&quot;v_2608935&quot;</td><td>2</td></tr><tr><td>&quot;u_332060&quot;</td><td>&quot;v_1119127&quot;</td><td>2</td></tr><tr><td>&quot;u_332060&quot;</td><td>&quot;v_323088&quot;</td><td>1</td></tr><tr><td>&quot;u_332060&quot;</td><td>&quot;v_794390&quot;</td><td>1</td></tr><tr><td>&quot;u_332060&quot;</td><td>&quot;v_1020162&quot;</td><td>2</td></tr><tr><td>&quot;u_332060&quot;</td><td>&quot;v_476655&quot;</td><td>1</td></tr><tr><td>&quot;u_332060&quot;</td><td>&quot;v_771586&quot;</td><td>2</td></tr><tr><td>&quot;u_332060&quot;</td><td>&quot;v_518327&quot;</td><td>1</td></tr><tr><td>&hellip;</td><td>&hellip;</td><td>&hellip;</td></tr><tr><td>&quot;u_291791&quot;</td><td>&quot;v_2337147&quot;</td><td>2</td></tr><tr><td>&quot;u_1091028&quot;</td><td>&quot;v_1412036&quot;</td><td>2</td></tr><tr><td>&quot;u_574056&quot;</td><td>&quot;v_2655196&quot;</td><td>2</td></tr><tr><td>&quot;u_489124&quot;</td><td>&quot;v_1975545&quot;</td><td>2</td></tr><tr><td>&quot;u_415800&quot;</td><td>&quot;v_303627&quot;</td><td>2</td></tr><tr><td>&quot;u_54897&quot;</td><td>&quot;v_2669097&quot;</td><td>2</td></tr><tr><td>&quot;u_999352&quot;</td><td>&quot;v_499781&quot;</td><td>2</td></tr><tr><td>&quot;u_202578&quot;</td><td>&quot;v_1499243&quot;</td><td>2</td></tr><tr><td>&quot;u_895531&quot;</td><td>&quot;v_2041381&quot;</td><td>2</td></tr><tr><td>&quot;u_317562&quot;</td><td>&quot;v_503192&quot;</td><td>2</td></tr><tr><td>&quot;u_225581&quot;</td><td>&quot;v_2526106&quot;</td><td>2</td></tr><tr><td>&quot;u_1127158&quot;</td><td>&quot;v_868748&quot;</td><td>2</td></tr></tbody></table></div>"
      ],
      "text/plain": [
       "shape: (21_516_070, 3)\n",
       "┌───────────┬────────────┬─────────────┐\n",
       "│ user_id   ┆ vacancy_id ┆ action_type │\n",
       "│ ---       ┆ ---        ┆ ---         │\n",
       "│ str       ┆ str        ┆ i64         │\n",
       "╞═══════════╪════════════╪═════════════╡\n",
       "│ u_332060  ┆ v_2571684  ┆ 2           │\n",
       "│ u_332060  ┆ v_488179   ┆ 2           │\n",
       "│ u_332060  ┆ v_2389179  ┆ 2           │\n",
       "│ u_332060  ┆ v_1393783  ┆ 2           │\n",
       "│ …         ┆ …          ┆ …           │\n",
       "│ u_895531  ┆ v_2041381  ┆ 2           │\n",
       "│ u_317562  ┆ v_503192   ┆ 2           │\n",
       "│ u_225581  ┆ v_2526106  ┆ 2           │\n",
       "│ u_1127158 ┆ v_868748   ┆ 2           │\n",
       "└───────────┴────────────┴─────────────┘"
      ]
     },
     "execution_count": 33,
     "metadata": {},
     "output_type": "execute_result"
    }
   ],
   "source": [
    "pairs"
   ]
  },
  {
   "cell_type": "code",
   "execution_count": 26,
   "metadata": {},
   "outputs": [
    {
     "name": "stderr",
     "output_type": "stream",
     "text": [
      "100%|██████████| 20/20 [00:24<00:00,  1.21s/it, loss=2.14e-5]\n"
     ]
    }
   ],
   "source": [
    "uv_mat = csr_matrix((preferences, (users, vacancies)))\n",
    "\n",
    "als_model = implicit.als.AlternatingLeastSquares(\n",
    "    factors=150,\n",
    "    random_state=RANDOM_STATE,\n",
    "    iterations=20,\n",
    "    calculate_training_loss=True,\n",
    "    regularization=0.001\n",
    ")\n",
    "als_model.fit(uv_mat)"
   ]
  },
  {
   "cell_type": "code",
   "execution_count": 27,
   "metadata": {},
   "outputs": [
    {
     "data": {
      "text/plain": [
       "((882409, 150), (1458353, 150))"
      ]
     },
     "execution_count": 27,
     "metadata": {},
     "output_type": "execute_result"
    }
   ],
   "source": [
    "als_model.user_factors.shape, als_model.item_factors.shape"
   ]
  },
  {
   "cell_type": "code",
   "execution_count": 28,
   "metadata": {},
   "outputs": [],
   "source": [
    "test_users = test['user_id'].to_list()\n",
    "test_vacancies = test.select(pl.col('vacancy_id').list.unique(maintain_order=True))['vacancy_id'].to_list()"
   ]
  },
  {
   "cell_type": "code",
   "execution_count": 30,
   "metadata": {},
   "outputs": [
    {
     "name": "stderr",
     "output_type": "stream",
     "text": [
      "100%|██████████| 83189/83189 [02:21<00:00, 588.66it/s]\n"
     ]
    }
   ],
   "source": [
    "predictions = []\n",
    "\n",
    "for user, vacs in tqdm(zip(test_users, test_vacancies), total=len(test_users)):\n",
    "    if user not in user2idx:\n",
    "        predictions.append(vacs)\n",
    "        continue\n",
    "    cuser = user2idx[user]\n",
    "\n",
    "    recommendations = als_model.recommend(cuser, uv_mat[cuser], N=N_PREDICTIONS)[0]\n",
    "    recommendations = [idx2vac[cv] for cv in recommendations]\n",
    "    predictions.append(recommendations)"
   ]
  },
  {
   "cell_type": "code",
   "execution_count": 31,
   "metadata": {},
   "outputs": [
    {
     "name": "stderr",
     "output_type": "stream",
     "text": [
      "/tmp/ipykernel_583187/2455226998.py:1: DeprecationWarning: Behavior for `lit` will change for sequence inputs. The result will change to be a literal of type List. To retain the old behavior, pass a Series instead, e.g. `Series(sequence)`.\n",
      "  test = test.with_columns(pl.lit(predictions).alias('predictions'))\n"
     ]
    }
   ],
   "source": [
    "test = test.with_columns(pl.lit(predictions).alias('predictions'))\n",
    "test.select(['user_id', 'session_id', 'predictions']).write_parquet('als_submission.pq')"
   ]
  },
  {
   "cell_type": "code",
   "execution_count": 32,
   "metadata": {},
   "outputs": [
    {
     "data": {
      "text/html": [
       "<div><style>\n",
       ".dataframe > thead > tr,\n",
       ".dataframe > tbody > tr {\n",
       "  text-align: right;\n",
       "  white-space: pre-wrap;\n",
       "}\n",
       "</style>\n",
       "<small>shape: (83_189, 6)</small><table border=\"1\" class=\"dataframe\"><thead><tr><th>user_id</th><th>session_id</th><th>vacancy_id</th><th>action_type</th><th>action_dt</th><th>predictions</th></tr><tr><td>str</td><td>str</td><td>list[str]</td><td>list[i64]</td><td>list[datetime[ns]]</td><td>list[str]</td></tr></thead><tbody><tr><td>&quot;u_482520&quot;</td><td>&quot;s_25018731&quot;</td><td>[&quot;v_2597196&quot;, &quot;v_1223061&quot;, &quot;v_1223061&quot;]</td><td>[2, 2, 1]</td><td>[2023-11-19 12:03:13.089, 2023-11-19 12:03:30.396, 2023-11-19 12:05:03.473]</td><td>[&quot;v_2650515&quot;, &quot;v_367301&quot;, … &quot;v_2337447&quot;]</td></tr><tr><td>&quot;u_582132&quot;</td><td>&quot;s_481216&quot;</td><td>[&quot;v_470400&quot;, &quot;v_470400&quot;, &quot;v_1530783&quot;]</td><td>[2, 1, 2]</td><td>[2023-11-21 15:39:47.981, 2023-11-21 15:43:57.620, 2023-11-21 15:44:37.982]</td><td>[&quot;v_1347362&quot;, &quot;v_1798396&quot;, … &quot;v_726002&quot;]</td></tr><tr><td>&quot;u_212584&quot;</td><td>&quot;s_16918781&quot;</td><td>[&quot;v_1572055&quot;, &quot;v_1572055&quot;, … &quot;v_1329494&quot;]</td><td>[2, 3, … 1]</td><td>[2023-11-16 08:41:47.031, 2023-11-16 08:45:21.403, … 2023-11-16 09:05:27.379]</td><td>[&quot;v_1572055&quot;, &quot;v_953153&quot;, … &quot;v_1329494&quot;]</td></tr><tr><td>&quot;u_425177&quot;</td><td>&quot;s_17505104&quot;</td><td>[&quot;v_1375331&quot;, &quot;v_1922852&quot;]</td><td>[2, 2]</td><td>[2023-11-17 12:42:18.513, 2023-11-17 12:43:52.744]</td><td>[&quot;v_2650515&quot;, &quot;v_367301&quot;, … &quot;v_676801&quot;]</td></tr><tr><td>&quot;u_700997&quot;</td><td>&quot;s_15528830&quot;</td><td>[&quot;v_2152997&quot;, &quot;v_2152997&quot;, &quot;v_1217630&quot;]</td><td>[2, 1, 2]</td><td>[2023-11-16 17:22:53.530, 2023-11-16 17:23:19.885, 2023-11-16 17:23:33.472]</td><td>[&quot;v_1431178&quot;, &quot;v_2395102&quot;, … &quot;v_1352210&quot;]</td></tr><tr><td>&quot;u_687201&quot;</td><td>&quot;s_11187326&quot;</td><td>[&quot;v_2602959&quot;, &quot;v_549337&quot;, … &quot;v_212060&quot;]</td><td>[2, 2, … 1]</td><td>[2023-11-21 14:41:30.546, 2023-11-21 15:00:25.506, … 2023-11-21 15:24:56.271]</td><td>[&quot;v_1465910&quot;, &quot;v_1586766&quot;, … &quot;v_668735&quot;]</td></tr><tr><td>&quot;u_573219&quot;</td><td>&quot;s_27394215&quot;</td><td>[&quot;v_1836184&quot;, &quot;v_2733253&quot;, … &quot;v_2297339&quot;]</td><td>[1, 2, … 2]</td><td>[2023-11-21 18:48:43.424, 2023-11-21 18:49:12.552, … 2023-11-21 19:48:55.704]</td><td>[&quot;v_701974&quot;, &quot;v_1081658&quot;, … &quot;v_27909&quot;]</td></tr><tr><td>&quot;u_1082782&quot;</td><td>&quot;s_30341164&quot;</td><td>[&quot;v_1026036&quot;, &quot;v_1026036&quot;, … &quot;v_206700&quot;]</td><td>[2, 1, … 2]</td><td>[2023-11-17 02:54:19.561, 2023-11-17 02:54:50.486, … 2023-11-17 03:21:22.008]</td><td>[&quot;v_964765&quot;, &quot;v_460169&quot;, … &quot;v_9584&quot;]</td></tr><tr><td>&quot;u_81444&quot;</td><td>&quot;s_1909964&quot;</td><td>[&quot;v_2497384&quot;, &quot;v_1480870&quot;, … &quot;v_1500697&quot;]</td><td>[2, 2, … 1]</td><td>[2023-11-15 12:38:34.579, 2023-11-15 13:03:41.360, … 2023-11-15 13:05:15.916]</td><td>[&quot;v_1431178&quot;, &quot;v_2395102&quot;, … &quot;v_2192945&quot;]</td></tr><tr><td>&quot;u_858357&quot;</td><td>&quot;s_12463318&quot;</td><td>[&quot;v_1085881&quot;, &quot;v_522338&quot;, … &quot;v_1776027&quot;]</td><td>[2, 2, … 2]</td><td>[2023-11-18 11:58:33.953, 2023-11-18 12:01:09.562, … 2023-11-18 14:39:24.255]</td><td>[&quot;v_1840884&quot;, &quot;v_1507795&quot;, … &quot;v_1876516&quot;]</td></tr><tr><td>&quot;u_136080&quot;</td><td>&quot;s_25066108&quot;</td><td>[&quot;v_1167642&quot;, &quot;v_613829&quot;, … &quot;v_2061106&quot;]</td><td>[2, 2, … 2]</td><td>[2023-11-21 05:09:14.167, 2023-11-21 05:10:02.996, … 2023-11-21 05:17:03.842]</td><td>[&quot;v_628246&quot;, &quot;v_926740&quot;, … &quot;v_2253806&quot;]</td></tr><tr><td>&quot;u_361893&quot;</td><td>&quot;s_12897073&quot;</td><td>[&quot;v_2188274&quot;, &quot;v_941470&quot;, … &quot;v_450701&quot;]</td><td>[2, 2, … 2]</td><td>[2023-11-21 16:03:36.003, 2023-11-21 16:04:07.515, … 2023-11-21 16:24:26.163]</td><td>[&quot;v_292120&quot;, &quot;v_1426084&quot;, … &quot;v_1003684&quot;]</td></tr><tr><td>&hellip;</td><td>&hellip;</td><td>&hellip;</td><td>&hellip;</td><td>&hellip;</td><td>&hellip;</td></tr><tr><td>&quot;u_27420&quot;</td><td>&quot;s_15647766&quot;</td><td>[&quot;v_779522&quot;, &quot;v_32918&quot;, … &quot;v_2382404&quot;]</td><td>[2, 2, … 2]</td><td>[2023-11-15 09:46:24.682, 2023-11-15 09:46:52.048, … 2023-11-15 09:55:07.684]</td><td>[&quot;v_137237&quot;, &quot;v_1463574&quot;, … &quot;v_1028534&quot;]</td></tr><tr><td>&quot;u_101925&quot;</td><td>&quot;s_9312767&quot;</td><td>[&quot;v_899404&quot;, &quot;v_2009859&quot;]</td><td>[2, 2]</td><td>[2023-11-17 10:54:18.637, 2023-11-17 12:19:55.239]</td><td>[&quot;v_460169&quot;, &quot;v_1431178&quot;, … &quot;v_168324&quot;]</td></tr><tr><td>&quot;u_105702&quot;</td><td>&quot;s_27857907&quot;</td><td>[&quot;v_473549&quot;, &quot;v_1137408&quot;]</td><td>[2, 2]</td><td>[2023-11-18 09:25:22.487, 2023-11-18 09:27:10.980]</td><td>[&quot;v_1857306&quot;, &quot;v_1438321&quot;, … &quot;v_85515&quot;]</td></tr><tr><td>&quot;u_485573&quot;</td><td>&quot;s_19643559&quot;</td><td>[&quot;v_1032129&quot;, &quot;v_1340903&quot;, &quot;v_1032129&quot;]</td><td>[2, 2, 2]</td><td>[2023-11-21 14:44:58.274, 2023-11-21 15:11:34.645, 2023-11-21 15:11:56.029]</td><td>[&quot;v_1730413&quot;, &quot;v_1232408&quot;, … &quot;v_2644585&quot;]</td></tr><tr><td>&quot;u_737688&quot;</td><td>&quot;s_5225203&quot;</td><td>[&quot;v_616873&quot;, &quot;v_2610004&quot;]</td><td>[2, 2]</td><td>[2023-11-20 12:37:56.056, 2023-11-20 12:41:23.243]</td><td>[&quot;v_2580478&quot;, &quot;v_1423085&quot;, … &quot;v_1873609&quot;]</td></tr><tr><td>&quot;u_366097&quot;</td><td>&quot;s_20110640&quot;</td><td>[&quot;v_307100&quot;, &quot;v_2040988&quot;, … &quot;v_2586611&quot;]</td><td>[2, 2, … 1]</td><td>[2023-11-17 15:31:42.944, 2023-11-17 15:32:01.187, … 2023-11-17 15:36:51.248]</td><td>[&quot;v_372548&quot;, &quot;v_444322&quot;, … &quot;v_1869222&quot;]</td></tr><tr><td>&quot;u_995221&quot;</td><td>&quot;s_21000652&quot;</td><td>[&quot;v_528661&quot;, &quot;v_528661&quot;, … &quot;v_199518&quot;]</td><td>[2, 1, … 2]</td><td>[2023-11-15 14:00:32.515, 2023-11-15 14:01:08.165, … 2023-11-15 14:04:31.812]</td><td>[&quot;v_2619838&quot;, &quot;v_542648&quot;, … &quot;v_1454784&quot;]</td></tr><tr><td>&quot;u_499368&quot;</td><td>&quot;s_19158589&quot;</td><td>[&quot;v_1716634&quot;, &quot;v_2232327&quot;, … &quot;v_1993650&quot;]</td><td>[2, 2, … 2]</td><td>[2023-11-18 03:15:15.530, 2023-11-18 03:19:20.971, … 2023-11-18 03:35:12.020]</td><td>[&quot;v_1716634&quot;, &quot;v_2232327&quot;, … &quot;v_1993650&quot;]</td></tr><tr><td>&quot;u_1084868&quot;</td><td>&quot;s_24756162&quot;</td><td>[&quot;v_395706&quot;, &quot;v_2405231&quot;]</td><td>[2, 2]</td><td>[2023-11-15 18:06:16.550, 2023-11-15 18:07:18.447]</td><td>[&quot;v_580809&quot;, &quot;v_1350249&quot;, … &quot;v_1368368&quot;]</td></tr><tr><td>&quot;u_1138032&quot;</td><td>&quot;s_25291467&quot;</td><td>[&quot;v_1213925&quot;, &quot;v_1213925&quot;, … &quot;v_2359832&quot;]</td><td>[2, 1, … 1]</td><td>[2023-11-19 23:19:44.092, 2023-11-19 23:27:22.739, … 2023-11-19 23:27:51.152]</td><td>[&quot;v_1213925&quot;, &quot;v_2359832&quot;]</td></tr><tr><td>&quot;u_608102&quot;</td><td>&quot;s_18813020&quot;</td><td>[&quot;v_933773&quot;, &quot;v_933773&quot;, … &quot;v_2667466&quot;]</td><td>[3, 2, … 2]</td><td>[2023-11-16 15:40:09.408, 2023-11-16 15:40:09.448, … 2023-11-16 16:18:05.927]</td><td>[&quot;v_1075856&quot;, &quot;v_186121&quot;, … &quot;v_182178&quot;]</td></tr><tr><td>&quot;u_847738&quot;</td><td>&quot;s_7662913&quot;</td><td>[&quot;v_875568&quot;, &quot;v_2677852&quot;, … &quot;v_1462102&quot;]</td><td>[2, 2, … 2]</td><td>[2023-11-17 13:34:03.386, 2023-11-17 13:34:57.675, … 2023-11-17 14:27:46.817]</td><td>[&quot;v_1964036&quot;, &quot;v_2716991&quot;, … &quot;v_937454&quot;]</td></tr></tbody></table></div>"
      ],
      "text/plain": [
       "shape: (83_189, 6)\n",
       "┌───────────┬────────────┬────────────────┬─────────────┬─────────────────────────┬────────────────┐\n",
       "│ user_id   ┆ session_id ┆ vacancy_id     ┆ action_type ┆ action_dt               ┆ predictions    │\n",
       "│ ---       ┆ ---        ┆ ---            ┆ ---         ┆ ---                     ┆ ---            │\n",
       "│ str       ┆ str        ┆ list[str]      ┆ list[i64]   ┆ list[datetime[ns]]      ┆ list[str]      │\n",
       "╞═══════════╪════════════╪════════════════╪═════════════╪═════════════════════════╪════════════════╡\n",
       "│ u_482520  ┆ s_25018731 ┆ [\"v_2597196\",  ┆ [2, 2, 1]   ┆ [2023-11-19             ┆ [\"v_2650515\",  │\n",
       "│           ┆            ┆ \"v_1223061\",   ┆             ┆ 12:03:13.089, 2023-1…   ┆ \"v_367301\", …  │\n",
       "│           ┆            ┆ \"v_12…         ┆             ┆                         ┆ \"v_2…          │\n",
       "│ u_582132  ┆ s_481216   ┆ [\"v_470400\",   ┆ [2, 1, 2]   ┆ [2023-11-21             ┆ [\"v_1347362\",  │\n",
       "│           ┆            ┆ \"v_470400\",    ┆             ┆ 15:39:47.981, 2023-1…   ┆ \"v_1798396\", … │\n",
       "│           ┆            ┆ \"v_1530…       ┆             ┆                         ┆ \"v_…           │\n",
       "│ u_212584  ┆ s_16918781 ┆ [\"v_1572055\",  ┆ [2, 3, … 1] ┆ [2023-11-16             ┆ [\"v_1572055\",  │\n",
       "│           ┆            ┆ \"v_1572055\", … ┆             ┆ 08:41:47.031, 2023-1…   ┆ \"v_953153\", …  │\n",
       "│           ┆            ┆ \"v_…           ┆             ┆                         ┆ \"v_1…          │\n",
       "│ u_425177  ┆ s_17505104 ┆ [\"v_1375331\",  ┆ [2, 2]      ┆ [2023-11-17             ┆ [\"v_2650515\",  │\n",
       "│           ┆            ┆ \"v_1922852\"]   ┆             ┆ 12:42:18.513, 2023-1…   ┆ \"v_367301\", …  │\n",
       "│           ┆            ┆                ┆             ┆                         ┆ \"v_6…          │\n",
       "│ …         ┆ …          ┆ …              ┆ …           ┆ …                       ┆ …              │\n",
       "│ u_1084868 ┆ s_24756162 ┆ [\"v_395706\",   ┆ [2, 2]      ┆ [2023-11-15             ┆ [\"v_580809\",   │\n",
       "│           ┆            ┆ \"v_2405231\"]   ┆             ┆ 18:06:16.550, 2023-1…   ┆ \"v_1350249\", … │\n",
       "│           ┆            ┆                ┆             ┆                         ┆ \"v_1…          │\n",
       "│ u_1138032 ┆ s_25291467 ┆ [\"v_1213925\",  ┆ [2, 1, … 1] ┆ [2023-11-19             ┆ [\"v_1213925\",  │\n",
       "│           ┆            ┆ \"v_1213925\", … ┆             ┆ 23:19:44.092, 2023-1…   ┆ \"v_2359832\"]   │\n",
       "│           ┆            ┆ \"v_…           ┆             ┆                         ┆                │\n",
       "│ u_608102  ┆ s_18813020 ┆ [\"v_933773\",   ┆ [3, 2, … 2] ┆ [2023-11-16             ┆ [\"v_1075856\",  │\n",
       "│           ┆            ┆ \"v_933773\", …  ┆             ┆ 15:40:09.408, 2023-1…   ┆ \"v_186121\", …  │\n",
       "│           ┆            ┆ \"v_26…         ┆             ┆                         ┆ \"v_1…          │\n",
       "│ u_847738  ┆ s_7662913  ┆ [\"v_875568\",   ┆ [2, 2, … 2] ┆ [2023-11-17             ┆ [\"v_1964036\",  │\n",
       "│           ┆            ┆ \"v_2677852\", … ┆             ┆ 13:34:03.386, 2023-1…   ┆ \"v_2716991\", … │\n",
       "│           ┆            ┆ \"v_1…          ┆             ┆                         ┆ \"v_…           │\n",
       "└───────────┴────────────┴────────────────┴─────────────┴─────────────────────────┴────────────────┘"
      ]
     },
     "execution_count": 32,
     "metadata": {},
     "output_type": "execute_result"
    }
   ],
   "source": [
    "test"
   ]
  },
  {
   "cell_type": "code",
   "execution_count": null,
   "metadata": {},
   "outputs": [],
   "source": []
  }
 ],
 "metadata": {
  "kernelspec": {
   "display_name": "Python 3 (ipykernel)",
   "language": "python",
   "name": "python3"
  },
  "language_info": {
   "codemirror_mode": {
    "name": "ipython",
    "version": 3
   },
   "file_extension": ".py",
   "mimetype": "text/x-python",
   "name": "python",
   "nbconvert_exporter": "python",
   "pygments_lexer": "ipython3",
   "version": "3.10.12"
  }
 },
 "nbformat": 4,
 "nbformat_minor": 4
}
