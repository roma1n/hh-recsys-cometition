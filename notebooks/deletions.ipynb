{
 "cells": [
  {
   "cell_type": "code",
   "execution_count": 1,
   "id": "a9b1210b-29ec-4d9a-819a-6fa65a3ce69e",
   "metadata": {},
   "outputs": [],
   "source": [
    "import polars as pl"
   ]
  },
  {
   "cell_type": "code",
   "execution_count": 2,
   "id": "ac3d5b48-5b50-4c86-8814-2f13e772aff3",
   "metadata": {},
   "outputs": [
    {
     "name": "stdout",
     "output_type": "stream",
     "text": [
      "hh_recsys_sample.pq\n",
      "hh_recsys_test_hh.pq\n",
      "hh_recsys_train_hh.pq\n",
      "hh_recsys_vacancies.pq\n"
     ]
    }
   ],
   "source": [
    "!ls ../data | grep hh_"
   ]
  },
  {
   "cell_type": "code",
   "execution_count": 4,
   "id": "e382afc1-7601-43ec-bd80-cfb0c995d835",
   "metadata": {},
   "outputs": [
    {
     "data": {
      "text/html": [
       "<div><style>\n",
       ".dataframe > thead > tr,\n",
       ".dataframe > tbody > tr {\n",
       "  text-align: right;\n",
       "  white-space: pre-wrap;\n",
       "}\n",
       "</style>\n",
       "<small>shape: (2, 5)</small><table border=\"1\" class=\"dataframe\"><thead><tr><th>user_id</th><th>session_id</th><th>vacancy_id</th><th>action_type</th><th>action_dt</th></tr><tr><td>str</td><td>str</td><td>list[str]</td><td>list[i64]</td><td>list[datetime[ns]]</td></tr></thead><tbody><tr><td>&quot;u_332060&quot;</td><td>&quot;s_28301374&quot;</td><td>[&quot;v_2571684&quot;, &quot;v_488179&quot;, … &quot;v_2633899&quot;]</td><td>[2, 2, … 2]</td><td>[2023-11-01 00:40:58.105, 2023-11-01 00:58:13.091, … 2023-11-01 01:35:54.456]</td></tr><tr><td>&quot;u_1057881&quot;</td><td>&quot;s_33868982&quot;</td><td>[&quot;v_665861&quot;]</td><td>[2]</td><td>[2023-11-01 00:23:51.452]</td></tr></tbody></table></div>"
      ],
      "text/plain": [
       "shape: (2, 5)\n",
       "┌───────────┬────────────┬─────────────────────────────┬─────────────┬─────────────────────────────┐\n",
       "│ user_id   ┆ session_id ┆ vacancy_id                  ┆ action_type ┆ action_dt                   │\n",
       "│ ---       ┆ ---        ┆ ---                         ┆ ---         ┆ ---                         │\n",
       "│ str       ┆ str        ┆ list[str]                   ┆ list[i64]   ┆ list[datetime[ns]]          │\n",
       "╞═══════════╪════════════╪═════════════════════════════╪═════════════╪═════════════════════════════╡\n",
       "│ u_332060  ┆ s_28301374 ┆ [\"v_2571684\", \"v_488179\", … ┆ [2, 2, … 2] ┆ [2023-11-01 00:40:58.105,   │\n",
       "│           ┆            ┆ \"v_2…                       ┆             ┆ 2023-1…                     │\n",
       "│ u_1057881 ┆ s_33868982 ┆ [\"v_665861\"]                ┆ [2]         ┆ [2023-11-01 00:23:51.452]   │\n",
       "└───────────┴────────────┴─────────────────────────────┴─────────────┴─────────────────────────────┘"
      ]
     },
     "execution_count": 4,
     "metadata": {},
     "output_type": "execute_result"
    }
   ],
   "source": [
    "compact_log = pl.concat([\n",
    "    pl.read_parquet('../data/hh_recsys_train_hh.pq'),\n",
    "    pl.read_parquet('../data/hh_recsys_test_hh.pq'),\n",
    "])\n",
    "compact_log.head(2)"
   ]
  },
  {
   "cell_type": "code",
   "execution_count": 5,
   "id": "966aba6c-2ac3-4783-90c7-658b071779e1",
   "metadata": {},
   "outputs": [
    {
     "data": {
      "text/html": [
       "<div><style>\n",
       ".dataframe > thead > tr,\n",
       ".dataframe > tbody > tr {\n",
       "  text-align: right;\n",
       "  white-space: pre-wrap;\n",
       "}\n",
       "</style>\n",
       "<small>shape: (2, 2)</small><table border=\"1\" class=\"dataframe\"><thead><tr><th>vacancy_id</th><th>action_dt</th></tr><tr><td>str</td><td>datetime[ns]</td></tr></thead><tbody><tr><td>&quot;v_2571684&quot;</td><td>2023-11-01 00:40:58.105</td></tr><tr><td>&quot;v_488179&quot;</td><td>2023-11-01 00:58:13.091</td></tr></tbody></table></div>"
      ],
      "text/plain": [
       "shape: (2, 2)\n",
       "┌────────────┬─────────────────────────┐\n",
       "│ vacancy_id ┆ action_dt               │\n",
       "│ ---        ┆ ---                     │\n",
       "│ str        ┆ datetime[ns]            │\n",
       "╞════════════╪═════════════════════════╡\n",
       "│ v_2571684  ┆ 2023-11-01 00:40:58.105 │\n",
       "│ v_488179   ┆ 2023-11-01 00:58:13.091 │\n",
       "└────────────┴─────────────────────────┘"
      ]
     },
     "execution_count": 5,
     "metadata": {},
     "output_type": "execute_result"
    }
   ],
   "source": [
    "log = compact_log.select(\n",
    "    'vacancy_id',\n",
    "    'action_dt',\n",
    ").explode(\n",
    "    'vacancy_id',\n",
    "    'action_dt',\n",
    ")\n",
    "log.head(2)"
   ]
  },
  {
   "cell_type": "code",
   "execution_count": 42,
   "id": "63554716-f44e-4727-95b8-4468d3993416",
   "metadata": {},
   "outputs": [
    {
     "data": {
      "text/plain": [
       "(21,)"
      ]
     },
     "execution_count": 42,
     "metadata": {},
     "output_type": "execute_result"
    }
   ],
   "source": [
    "log['action_dt'].cast(pl.Date).unique().shape"
   ]
  },
  {
   "cell_type": "code",
   "execution_count": 65,
   "id": "2baad88b-b646-43cc-9d62-09a7e119705f",
   "metadata": {},
   "outputs": [
    {
     "data": {
      "text/plain": [
       "0.048558298182761084"
      ]
     },
     "execution_count": 65,
     "metadata": {},
     "output_type": "execute_result"
    }
   ],
   "source": [
    "(20/21)**62"
   ]
  },
  {
   "cell_type": "code",
   "execution_count": 17,
   "id": "e65f4b66-ac14-42e2-ae32-84ea889e65e4",
   "metadata": {},
   "outputs": [
    {
     "data": {
      "text/plain": [
       "datetime.date(2023, 11, 21)"
      ]
     },
     "execution_count": 17,
     "metadata": {},
     "output_type": "execute_result"
    }
   ],
   "source": [
    "last_log_dt = log['action_dt'].cast(pl.Date).max()\n",
    "last_log_dt"
   ]
  },
  {
   "cell_type": "code",
   "execution_count": 27,
   "id": "0c087d74-ebb8-43a4-954c-17e4cef71338",
   "metadata": {},
   "outputs": [
    {
     "data": {
      "text/html": [
       "<div><style>\n",
       ".dataframe > thead > tr,\n",
       ".dataframe > tbody > tr {\n",
       "  text-align: right;\n",
       "  white-space: pre-wrap;\n",
       "}\n",
       "</style>\n",
       "<small>shape: (10, 3)</small><table border=\"1\" class=\"dataframe\"><thead><tr><th>vacancy_id</th><th>action_dt</th><th>n_action</th></tr><tr><td>str</td><td>date</td><td>u32</td></tr></thead><tbody><tr><td>&quot;v_460169&quot;</td><td>2023-11-21</td><td>13746</td></tr><tr><td>&quot;v_964765&quot;</td><td>2023-11-21</td><td>6798</td></tr><tr><td>&quot;v_1840884&quot;</td><td>2023-11-21</td><td>6687</td></tr><tr><td>&quot;v_2691293&quot;</td><td>2023-11-16</td><td>6622</td></tr><tr><td>&quot;v_1481785&quot;</td><td>2023-11-10</td><td>5779</td></tr><tr><td>&quot;v_1507795&quot;</td><td>2023-11-21</td><td>5259</td></tr><tr><td>&quot;v_2337447&quot;</td><td>2023-11-21</td><td>4540</td></tr><tr><td>&quot;v_745592&quot;</td><td>2023-11-08</td><td>4537</td></tr><tr><td>&quot;v_690752&quot;</td><td>2023-11-13</td><td>4441</td></tr><tr><td>&quot;v_2730052&quot;</td><td>2023-11-21</td><td>4201</td></tr></tbody></table></div>"
      ],
      "text/plain": [
       "shape: (10, 3)\n",
       "┌────────────┬────────────┬──────────┐\n",
       "│ vacancy_id ┆ action_dt  ┆ n_action │\n",
       "│ ---        ┆ ---        ┆ ---      │\n",
       "│ str        ┆ date       ┆ u32      │\n",
       "╞════════════╪════════════╪══════════╡\n",
       "│ v_460169   ┆ 2023-11-21 ┆ 13746    │\n",
       "│ v_964765   ┆ 2023-11-21 ┆ 6798     │\n",
       "│ v_1840884  ┆ 2023-11-21 ┆ 6687     │\n",
       "│ v_2691293  ┆ 2023-11-16 ┆ 6622     │\n",
       "│ …          ┆ …          ┆ …        │\n",
       "│ v_2337447  ┆ 2023-11-21 ┆ 4540     │\n",
       "│ v_745592   ┆ 2023-11-08 ┆ 4537     │\n",
       "│ v_690752   ┆ 2023-11-13 ┆ 4441     │\n",
       "│ v_2730052  ┆ 2023-11-21 ┆ 4201     │\n",
       "└────────────┴────────────┴──────────┘"
      ]
     },
     "execution_count": 27,
     "metadata": {},
     "output_type": "execute_result"
    }
   ],
   "source": [
    "n_action = log.group_by(\n",
    "    'vacancy_id'\n",
    ").agg(\n",
    "    pl.col('action_dt').cast(pl.Date).max(),\n",
    "    pl.count().alias('n_action'),\n",
    ").sort('n_action', descending=True)\n",
    "\n",
    "n_action.head(10)"
   ]
  },
  {
   "cell_type": "code",
   "execution_count": 58,
   "id": "bd5bf9de-c14d-4a24-9bca-835892f3c693",
   "metadata": {},
   "outputs": [
    {
     "data": {
      "text/html": [
       "<div><style>\n",
       ".dataframe > thead > tr,\n",
       ".dataframe > tbody > tr {\n",
       "  text-align: right;\n",
       "  white-space: pre-wrap;\n",
       "}\n",
       "</style>\n",
       "<small>shape: (9_910, 3)</small><table border=\"1\" class=\"dataframe\"><thead><tr><th>vacancy_id</th><th>action_dt</th><th>n_action</th></tr><tr><td>str</td><td>date</td><td>u32</td></tr></thead><tbody><tr><td>&quot;v_460169&quot;</td><td>2023-11-21</td><td>13746</td></tr><tr><td>&quot;v_964765&quot;</td><td>2023-11-21</td><td>6798</td></tr><tr><td>&quot;v_1840884&quot;</td><td>2023-11-21</td><td>6687</td></tr><tr><td>&quot;v_1507795&quot;</td><td>2023-11-21</td><td>5259</td></tr><tr><td>&quot;v_2337447&quot;</td><td>2023-11-21</td><td>4540</td></tr><tr><td>&quot;v_2730052&quot;</td><td>2023-11-21</td><td>4201</td></tr><tr><td>&quot;v_402043&quot;</td><td>2023-11-21</td><td>4058</td></tr><tr><td>&quot;v_1075856&quot;</td><td>2023-11-21</td><td>4034</td></tr><tr><td>&quot;v_2507405&quot;</td><td>2023-11-21</td><td>3959</td></tr><tr><td>&quot;v_2557303&quot;</td><td>2023-11-21</td><td>3506</td></tr><tr><td>&quot;v_2395102&quot;</td><td>2023-11-21</td><td>3404</td></tr><tr><td>&quot;v_1431178&quot;</td><td>2023-11-21</td><td>3358</td></tr><tr><td>&hellip;</td><td>&hellip;</td><td>&hellip;</td></tr><tr><td>&quot;v_1981537&quot;</td><td>2023-11-21</td><td>96</td></tr><tr><td>&quot;v_395678&quot;</td><td>2023-11-21</td><td>96</td></tr><tr><td>&quot;v_71919&quot;</td><td>2023-11-21</td><td>96</td></tr><tr><td>&quot;v_2250607&quot;</td><td>2023-11-21</td><td>96</td></tr><tr><td>&quot;v_2087784&quot;</td><td>2023-11-21</td><td>96</td></tr><tr><td>&quot;v_2667695&quot;</td><td>2023-11-21</td><td>96</td></tr><tr><td>&quot;v_1665061&quot;</td><td>2023-11-21</td><td>96</td></tr><tr><td>&quot;v_1290538&quot;</td><td>2023-11-21</td><td>96</td></tr><tr><td>&quot;v_278147&quot;</td><td>2023-11-21</td><td>96</td></tr><tr><td>&quot;v_2267271&quot;</td><td>2023-11-21</td><td>96</td></tr><tr><td>&quot;v_2670307&quot;</td><td>2023-11-21</td><td>96</td></tr><tr><td>&quot;v_479380&quot;</td><td>2023-11-21</td><td>96</td></tr></tbody></table></div>"
      ],
      "text/plain": [
       "shape: (9_910, 3)\n",
       "┌────────────┬────────────┬──────────┐\n",
       "│ vacancy_id ┆ action_dt  ┆ n_action │\n",
       "│ ---        ┆ ---        ┆ ---      │\n",
       "│ str        ┆ date       ┆ u32      │\n",
       "╞════════════╪════════════╪══════════╡\n",
       "│ v_460169   ┆ 2023-11-21 ┆ 13746    │\n",
       "│ v_964765   ┆ 2023-11-21 ┆ 6798     │\n",
       "│ v_1840884  ┆ 2023-11-21 ┆ 6687     │\n",
       "│ v_1507795  ┆ 2023-11-21 ┆ 5259     │\n",
       "│ …          ┆ …          ┆ …        │\n",
       "│ v_278147   ┆ 2023-11-21 ┆ 96       │\n",
       "│ v_2267271  ┆ 2023-11-21 ┆ 96       │\n",
       "│ v_2670307  ┆ 2023-11-21 ┆ 96       │\n",
       "│ v_479380   ┆ 2023-11-21 ┆ 96       │\n",
       "└────────────┴────────────┴──────────┘"
      ]
     },
     "execution_count": 58,
     "metadata": {},
     "output_type": "execute_result"
    }
   ],
   "source": [
    "n_action.filter(\n",
    "    (\n",
    "        pl.col('n_action') > 95\n",
    "    ) & (\n",
    "        pl.col('action_dt') == last_log_dt\n",
    "    ),\n",
    ")"
   ]
  },
  {
   "cell_type": "code",
   "execution_count": 73,
   "id": "f3bcaeea-bd1b-44f3-a8fe-45828f454260",
   "metadata": {},
   "outputs": [
    {
     "data": {
      "text/html": [
       "<div><style>\n",
       ".dataframe > thead > tr,\n",
       ".dataframe > tbody > tr {\n",
       "  text-align: right;\n",
       "  white-space: pre-wrap;\n",
       "}\n",
       "</style>\n",
       "<small>shape: (5, 3)</small><table border=\"1\" class=\"dataframe\"><thead><tr><th>vacancy_id</th><th>action_dt</th><th>n_action</th></tr><tr><td>str</td><td>date</td><td>u32</td></tr></thead><tbody><tr><td>&quot;v_2691293&quot;</td><td>2023-11-16</td><td>6622</td></tr><tr><td>&quot;v_1481785&quot;</td><td>2023-11-10</td><td>5779</td></tr><tr><td>&quot;v_745592&quot;</td><td>2023-11-08</td><td>4537</td></tr><tr><td>&quot;v_690752&quot;</td><td>2023-11-13</td><td>4441</td></tr><tr><td>&quot;v_1455671&quot;</td><td>2023-11-19</td><td>3946</td></tr></tbody></table></div>"
      ],
      "text/plain": [
       "shape: (5, 3)\n",
       "┌────────────┬────────────┬──────────┐\n",
       "│ vacancy_id ┆ action_dt  ┆ n_action │\n",
       "│ ---        ┆ ---        ┆ ---      │\n",
       "│ str        ┆ date       ┆ u32      │\n",
       "╞════════════╪════════════╪══════════╡\n",
       "│ v_2691293  ┆ 2023-11-16 ┆ 6622     │\n",
       "│ v_1481785  ┆ 2023-11-10 ┆ 5779     │\n",
       "│ v_745592   ┆ 2023-11-08 ┆ 4537     │\n",
       "│ v_690752   ┆ 2023-11-13 ┆ 4441     │\n",
       "│ v_1455671  ┆ 2023-11-19 ┆ 3946     │\n",
       "└────────────┴────────────┴──────────┘"
      ]
     },
     "execution_count": 73,
     "metadata": {},
     "output_type": "execute_result"
    }
   ],
   "source": [
    "deleted = n_action.filter(\n",
    "    (\n",
    "        pl.col('n_action') > 95\n",
    "    ) & (\n",
    "        pl.col('action_dt') != last_log_dt\n",
    "    ),\n",
    ")\n",
    "deleted.head(5)"
   ]
  },
  {
   "cell_type": "code",
   "execution_count": 74,
   "id": "e478ac94-6996-4e12-8e7b-d860dcf12f8c",
   "metadata": {},
   "outputs": [
    {
     "data": {
      "text/html": [
       "<div><style>\n",
       ".dataframe > thead > tr,\n",
       ".dataframe > tbody > tr {\n",
       "  text-align: right;\n",
       "  white-space: pre-wrap;\n",
       "}\n",
       "</style>\n",
       "<small>shape: (5, 3)</small><table border=\"1\" class=\"dataframe\"><thead><tr><th>vacancy_id</th><th>idx</th><th>user_id</th></tr><tr><td>str</td><td>i64</td><td>str</td></tr></thead><tbody><tr><td>&quot;v_622811&quot;</td><td>0</td><td>&quot;u_775363&quot;</td></tr><tr><td>&quot;v_2668345&quot;</td><td>1</td><td>&quot;u_775363&quot;</td></tr><tr><td>&quot;v_390512&quot;</td><td>2</td><td>&quot;u_775363&quot;</td></tr><tr><td>&quot;v_2530865&quot;</td><td>3</td><td>&quot;u_775363&quot;</td></tr><tr><td>&quot;v_1783814&quot;</td><td>4</td><td>&quot;u_775363&quot;</td></tr></tbody></table></div>"
      ],
      "text/plain": [
       "shape: (5, 3)\n",
       "┌────────────┬─────┬──────────┐\n",
       "│ vacancy_id ┆ idx ┆ user_id  │\n",
       "│ ---        ┆ --- ┆ ---      │\n",
       "│ str        ┆ i64 ┆ str      │\n",
       "╞════════════╪═════╪══════════╡\n",
       "│ v_622811   ┆ 0   ┆ u_775363 │\n",
       "│ v_2668345  ┆ 1   ┆ u_775363 │\n",
       "│ v_390512   ┆ 2   ┆ u_775363 │\n",
       "│ v_2530865  ┆ 3   ┆ u_775363 │\n",
       "│ v_1783814  ┆ 4   ┆ u_775363 │\n",
       "└────────────┴─────┴──────────┘"
      ]
     },
     "execution_count": 74,
     "metadata": {},
     "output_type": "execute_result"
    }
   ],
   "source": [
    "cp = pl.read_parquet('../data/catboost_predictions_v3.pq').select(\n",
    "    pl.col('predictions').alias('vacancy_id'),\n",
    "    pl.lit(list(range(100)), dtype=pl.List(pl.Int64)).alias('idx'),\n",
    "    'user_id',\n",
    ").explode('vacancy_id', 'idx')\n",
    "cp.head()"
   ]
  },
  {
   "cell_type": "code",
   "execution_count": 80,
   "id": "122c376b-c0aa-4ad5-b10f-31ce3f6ab441",
   "metadata": {},
   "outputs": [
    {
     "data": {
      "text/plain": [
       "9.56227820045076"
      ]
     },
     "execution_count": 80,
     "metadata": {},
     "output_type": "execute_result"
    }
   ],
   "source": [
    "cp.join(\n",
    "    deleted,\n",
    "    on='vacancy_id',\n",
    ").group_by('user_id').min()['idx'].mean()"
   ]
  },
  {
   "cell_type": "code",
   "execution_count": 69,
   "id": "bea362ac-3102-4e32-a67c-8bff2ced8974",
   "metadata": {},
   "outputs": [
    {
     "data": {
      "text/plain": [
       "(8318900, 2)"
      ]
     },
     "execution_count": 69,
     "metadata": {},
     "output_type": "execute_result"
    }
   ],
   "source": [
    "cp.shape"
   ]
  },
  {
   "cell_type": "code",
   "execution_count": 56,
   "id": "0ea6cfc1-9142-41a2-9027-a49f71ae6b0b",
   "metadata": {},
   "outputs": [
    {
     "data": {
      "text/plain": [
       "0.16707437281371335"
      ]
     },
     "execution_count": 56,
     "metadata": {},
     "output_type": "execute_result"
    }
   ],
   "source": [
    "1389875 / 8318900"
   ]
  },
  {
   "cell_type": "code",
   "execution_count": null,
   "id": "19daf4f2-437c-45d7-8989-ee7a6e022e92",
   "metadata": {},
   "outputs": [],
   "source": []
  },
  {
   "cell_type": "code",
   "execution_count": null,
   "id": "e2296fdd-dee6-45fb-852b-d24d4748011b",
   "metadata": {},
   "outputs": [],
   "source": []
  },
  {
   "cell_type": "code",
   "execution_count": null,
   "id": "61ab8b12-d4f4-49a3-b00e-d6ece5b130be",
   "metadata": {},
   "outputs": [],
   "source": []
  },
  {
   "cell_type": "code",
   "execution_count": 139,
   "id": "7071fd9b-1441-4052-a1af-f8b5b514c755",
   "metadata": {},
   "outputs": [],
   "source": [
    "o = pl.read_parquet('../data/catboost_predictions_v3.pq')\n",
    "n = pl.read_parquet('../data/catboost_predictions_v4.pq')\n"
   ]
  },
  {
   "cell_type": "code",
   "execution_count": 140,
   "id": "5d2be071-073e-4370-9f1a-5f19f7b85740",
   "metadata": {},
   "outputs": [
    {
     "data": {
      "text/html": [
       "<div><style>\n",
       ".dataframe > thead > tr,\n",
       ".dataframe > tbody > tr {\n",
       "  text-align: right;\n",
       "  white-space: pre-wrap;\n",
       "}\n",
       "</style>\n",
       "<small>shape: (1, 1)</small><table border=\"1\" class=\"dataframe\"><thead><tr><th>predictions</th></tr><tr><td>f64</td></tr></thead><tbody><tr><td>0.453113</td></tr></tbody></table></div>"
      ],
      "text/plain": [
       "shape: (1, 1)\n",
       "┌─────────────┐\n",
       "│ predictions │\n",
       "│ ---         │\n",
       "│ f64         │\n",
       "╞═════════════╡\n",
       "│ 0.453113    │\n",
       "└─────────────┘"
      ]
     },
     "execution_count": 140,
     "metadata": {},
     "output_type": "execute_result"
    }
   ],
   "source": [
    "n.join(\n",
    "    o,\n",
    "    on='user_id',\n",
    ").select(\n",
    "    pl.col('predictions').list.first() == pl.col('predictions_right').list.first()\n",
    ").mean()"
   ]
  },
  {
   "cell_type": "code",
   "execution_count": 141,
   "id": "8533b470-7803-489b-94d4-20f42e7068f1",
   "metadata": {},
   "outputs": [
    {
     "data": {
      "text/html": [
       "<div><style>\n",
       ".dataframe > thead > tr,\n",
       ".dataframe > tbody > tr {\n",
       "  text-align: right;\n",
       "  white-space: pre-wrap;\n",
       "}\n",
       "</style>\n",
       "<small>shape: (1, 1)</small><table border=\"1\" class=\"dataframe\"><thead><tr><th>predictions</th></tr><tr><td>u32</td></tr></thead><tbody><tr><td>100</td></tr></tbody></table></div>"
      ],
      "text/plain": [
       "shape: (1, 1)\n",
       "┌─────────────┐\n",
       "│ predictions │\n",
       "│ ---         │\n",
       "│ u32         │\n",
       "╞═════════════╡\n",
       "│ 100         │\n",
       "└─────────────┘"
      ]
     },
     "execution_count": 141,
     "metadata": {},
     "output_type": "execute_result"
    }
   ],
   "source": [
    "n.select(\n",
    "    pl.col('predictions').list.len()\n",
    ").min()"
   ]
  },
  {
   "cell_type": "code",
   "execution_count": null,
   "id": "48cedb8c-65bb-45e5-8ea8-59d5be9309f2",
   "metadata": {},
   "outputs": [],
   "source": []
  },
  {
   "cell_type": "code",
   "execution_count": null,
   "id": "f6619278-7ec2-43ea-90a8-05148fa3a299",
   "metadata": {},
   "outputs": [],
   "source": []
  },
  {
   "cell_type": "code",
   "execution_count": null,
   "id": "8bdf2163-6f1b-4b06-bdc5-222ba7b13a48",
   "metadata": {},
   "outputs": [],
   "source": []
  },
  {
   "cell_type": "code",
   "execution_count": 121,
   "id": "39399de6-5ccc-4e59-b3a0-f95a924b208e",
   "metadata": {},
   "outputs": [
    {
     "name": "stdout",
     "output_type": "stream",
     "text": [
      "CPU times: user 29.6 s, sys: 3.04 s, total: 32.7 s\n",
      "Wall time: 5.12 s\n"
     ]
    },
    {
     "data": {
      "text/html": [
       "<div><style>\n",
       ".dataframe > thead > tr,\n",
       ".dataframe > tbody > tr {\n",
       "  text-align: right;\n",
       "  white-space: pre-wrap;\n",
       "}\n",
       "</style>\n",
       "<small>shape: (5, 5)</small><table border=\"1\" class=\"dataframe\"><thead><tr><th>vacancy_id</th><th>dt</th><th>vacancy_views</th><th>vacancy_views_last_day</th><th>vacancy_views_last_day_share</th></tr><tr><td>str</td><td>date</td><td>u32</td><td>u32</td><td>f64</td></tr></thead><tbody><tr><td>&quot;v_0&quot;</td><td>2023-11-06</td><td>3</td><td>3</td><td>1.0</td></tr><tr><td>&quot;v_0&quot;</td><td>2023-11-07</td><td>5</td><td>2</td><td>0.4</td></tr><tr><td>&quot;v_0&quot;</td><td>2023-11-09</td><td>6</td><td>1</td><td>0.166667</td></tr><tr><td>&quot;v_0&quot;</td><td>2023-11-10</td><td>8</td><td>2</td><td>0.25</td></tr><tr><td>&quot;v_0&quot;</td><td>2023-11-13</td><td>9</td><td>1</td><td>0.111111</td></tr></tbody></table></div>"
      ],
      "text/plain": [
       "shape: (5, 5)\n",
       "┌────────────┬────────────┬───────────────┬────────────────────────┬──────────────────────────────┐\n",
       "│ vacancy_id ┆ dt         ┆ vacancy_views ┆ vacancy_views_last_day ┆ vacancy_views_last_day_share │\n",
       "│ ---        ┆ ---        ┆ ---           ┆ ---                    ┆ ---                          │\n",
       "│ str        ┆ date       ┆ u32           ┆ u32                    ┆ f64                          │\n",
       "╞════════════╪════════════╪═══════════════╪════════════════════════╪══════════════════════════════╡\n",
       "│ v_0        ┆ 2023-11-06 ┆ 3             ┆ 3                      ┆ 1.0                          │\n",
       "│ v_0        ┆ 2023-11-07 ┆ 5             ┆ 2                      ┆ 0.4                          │\n",
       "│ v_0        ┆ 2023-11-09 ┆ 6             ┆ 1                      ┆ 0.166667                     │\n",
       "│ v_0        ┆ 2023-11-10 ┆ 8             ┆ 2                      ┆ 0.25                         │\n",
       "│ v_0        ┆ 2023-11-13 ┆ 9             ┆ 1                      ┆ 0.111111                     │\n",
       "└────────────┴────────────┴───────────────┴────────────────────────┴──────────────────────────────┘"
      ]
     },
     "execution_count": 121,
     "metadata": {},
     "output_type": "execute_result"
    }
   ],
   "source": [
    "%%time\n",
    "stats = log.select(\n",
    "    'vacancy_id',\n",
    "    pl.col('action_dt').cast(pl.Date).alias('dt')\n",
    ").group_by(\n",
    "    'vacancy_id',\n",
    "    'dt',\n",
    ").count().sort('dt').select(\n",
    "    pl.col('vacancy_id'),\n",
    "    pl.col('dt'),\n",
    "    pl.col('count').cum_sum().over('vacancy_id').alias('vacancy_views'),\n",
    "    pl.col('count').alias('vacancy_views_last_day'),\n",
    "    (pl.col('count') / pl.col('count').cum_sum().over('vacancy_id')).alias('vacancy_views_last_day_share'),\n",
    ").sort('vacancy_id', 'dt')\n",
    "\n",
    "stats.head()"
   ]
  },
  {
   "cell_type": "code",
   "execution_count": 111,
   "id": "8b6fb245-f660-42fe-ac2a-aa63c1ccdd43",
   "metadata": {},
   "outputs": [
    {
     "data": {
      "text/plain": [
       "datetime.date(2023, 11, 21)"
      ]
     },
     "execution_count": 111,
     "metadata": {},
     "output_type": "execute_result"
    }
   ],
   "source": [
    "last_log_dt"
   ]
  },
  {
   "cell_type": "code",
   "execution_count": 135,
   "id": "3f60bfe9-eacf-4299-84e1-3fc9b17e97bb",
   "metadata": {},
   "outputs": [],
   "source": [
    "import datetime\n",
    "d = pl.read_parquet('../data/final_train_dataset.pq')"
   ]
  },
  {
   "cell_type": "code",
   "execution_count": 138,
   "id": "b21652a1-970b-4172-a949-5a1c7e1ab1a8",
   "metadata": {},
   "outputs": [
    {
     "data": {
      "text/html": [
       "<div><style>\n",
       ".dataframe > thead > tr,\n",
       ".dataframe > tbody > tr {\n",
       "  text-align: right;\n",
       "  white-space: pre-wrap;\n",
       "}\n",
       "</style>\n",
       "<small>shape: (404_345,)</small><table border=\"1\" class=\"dataframe\"><thead><tr><th>dt</th></tr><tr><td>i64</td></tr></thead><tbody><tr><td>1700438400000000</td></tr><tr><td>1699401600000000</td></tr><tr><td>1699401600000000</td></tr><tr><td>1700438400000000</td></tr><tr><td>1699920000000000</td></tr><tr><td>1699833600000000</td></tr><tr><td>1700006400000000</td></tr><tr><td>1699833600000000</td></tr><tr><td>1699833600000000</td></tr><tr><td>1700438400000000</td></tr><tr><td>1700438400000000</td></tr><tr><td>1699833600000000</td></tr><tr><td>&hellip;</td></tr><tr><td>1699920000000000</td></tr><tr><td>1699833600000000</td></tr><tr><td>1700179200000000</td></tr><tr><td>1699920000000000</td></tr><tr><td>1699315200000000</td></tr><tr><td>1699833600000000</td></tr><tr><td>1700352000000000</td></tr><tr><td>1699488000000000</td></tr><tr><td>1700524800000000</td></tr><tr><td>1699401600000000</td></tr><tr><td>1699920000000000</td></tr><tr><td>1699401600000000</td></tr></tbody></table></div>"
      ],
      "text/plain": [
       "shape: (404_345,)\n",
       "Series: 'dt' [i64]\n",
       "[\n",
       "\t1700438400000000\n",
       "\t1699401600000000\n",
       "\t1699401600000000\n",
       "\t1700438400000000\n",
       "\t1699920000000000\n",
       "\t1699833600000000\n",
       "\t1700006400000000\n",
       "\t1699833600000000\n",
       "\t1699833600000000\n",
       "\t1700438400000000\n",
       "\t1700438400000000\n",
       "\t1699833600000000\n",
       "\t…\n",
       "\t1699574400000000\n",
       "\t1699920000000000\n",
       "\t1699833600000000\n",
       "\t1700179200000000\n",
       "\t1699920000000000\n",
       "\t1699315200000000\n",
       "\t1699833600000000\n",
       "\t1700352000000000\n",
       "\t1699488000000000\n",
       "\t1700524800000000\n",
       "\t1699401600000000\n",
       "\t1699920000000000\n",
       "\t1699401600000000\n",
       "]"
      ]
     },
     "execution_count": 138,
     "metadata": {},
     "output_type": "execute_result"
    }
   ],
   "source": [
    "d['dt'].dt.timestamp()"
   ]
  },
  {
   "cell_type": "code",
   "execution_count": 131,
   "id": "4eeba278-0466-4688-a688-e51addc3514e",
   "metadata": {},
   "outputs": [
    {
     "data": {
      "text/html": [
       "<div><style>\n",
       ".dataframe > thead > tr,\n",
       ".dataframe > tbody > tr {\n",
       "  text-align: right;\n",
       "  white-space: pre-wrap;\n",
       "}\n",
       "</style>\n",
       "<small>shape: (1, 34)</small><table border=\"1\" class=\"dataframe\"><thead><tr><th>user_id</th><th>vacancy_id</th><th>likes_count</th><th>applies_count</th><th>views_count</th><th>likes_back</th><th>applies_back</th><th>views_back</th><th>score</th><th>score_pos</th><th>name</th><th>company.id</th><th>compensation.from</th><th>compensation.to</th><th>compensation.currencyCode</th><th>area.id</th><th>area.regionId</th><th>employment</th><th>workSchedule</th><th>workExperience</th><th>dt</th><th>vacancy_since_action</th><th>vacancy_actions</th><th>vacancy_actions_last_day</th><th>vacancy_actions_last_day_share</th><th>eq_name</th><th>eq_company.id</th><th>eq_area.id</th><th>eq_employment</th><th>eq_workSchedule</th><th>eq_workExperience</th><th>sessions_back</th><th>is_test</th><th>target</th></tr><tr><td>f64</td><td>f64</td><td>f64</td><td>f64</td><td>f64</td><td>f64</td><td>f64</td><td>f64</td><td>f64</td><td>f64</td><td>f64</td><td>f64</td><td>f64</td><td>f64</td><td>f64</td><td>f64</td><td>f64</td><td>f64</td><td>f64</td><td>f64</td><td>f64</td><td>f64</td><td>f64</td><td>f64</td><td>f64</td><td>f64</td><td>f64</td><td>f64</td><td>f64</td><td>f64</td><td>f64</td><td>f64</td><td>f64</td><td>f64</td></tr></thead><tbody><tr><td>0.0</td><td>0.0</td><td>0.0</td><td>0.0</td><td>0.0</td><td>0.0</td><td>0.0</td><td>0.0</td><td>0.0</td><td>0.0</td><td>0.0</td><td>0.0</td><td>0.321364</td><td>0.544293</td><td>0.246873</td><td>0.0</td><td>0.089349</td><td>0.0</td><td>0.0</td><td>0.0</td><td>0.0</td><td>0.182216</td><td>0.0</td><td>0.0</td><td>0.0</td><td>0.0</td><td>0.0</td><td>0.0</td><td>0.0</td><td>0.0</td><td>0.0</td><td>0.0</td><td>0.0</td><td>0.0</td></tr></tbody></table></div>"
      ],
      "text/plain": [
       "shape: (1, 34)\n",
       "┌─────────┬────────────┬─────────────┬────────────┬───┬────────────┬────────────┬─────────┬────────┐\n",
       "│ user_id ┆ vacancy_id ┆ likes_count ┆ applies_co ┆ … ┆ eq_workExp ┆ sessions_b ┆ is_test ┆ target │\n",
       "│ ---     ┆ ---        ┆ ---         ┆ unt        ┆   ┆ erience    ┆ ack        ┆ ---     ┆ ---    │\n",
       "│ f64     ┆ f64        ┆ f64         ┆ ---        ┆   ┆ ---        ┆ ---        ┆ f64     ┆ f64    │\n",
       "│         ┆            ┆             ┆ f64        ┆   ┆ f64        ┆ f64        ┆         ┆        │\n",
       "╞═════════╪════════════╪═════════════╪════════════╪═══╪════════════╪════════════╪═════════╪════════╡\n",
       "│ 0.0     ┆ 0.0        ┆ 0.0         ┆ 0.0        ┆ … ┆ 0.0        ┆ 0.0        ┆ 0.0     ┆ 0.0    │\n",
       "└─────────┴────────────┴─────────────┴────────────┴───┴────────────┴────────────┴─────────┴────────┘"
      ]
     },
     "execution_count": 131,
     "metadata": {},
     "output_type": "execute_result"
    }
   ],
   "source": [
    "d.select(pl.all().is_null()).mean()"
   ]
  },
  {
   "cell_type": "code",
   "execution_count": 107,
   "id": "60283840-116c-4116-81a3-76d7c2b92e7d",
   "metadata": {},
   "outputs": [
    {
     "data": {
      "text/html": [
       "<div><style>\n",
       ".dataframe > thead > tr,\n",
       ".dataframe > tbody > tr {\n",
       "  text-align: right;\n",
       "  white-space: pre-wrap;\n",
       "}\n",
       "</style>\n",
       "<small>shape: (5, 9)</small><table border=\"1\" class=\"dataframe\"><thead><tr><th>user_id</th><th>n_sessions</th><th>vacancy_id</th><th>action_type</th><th>is_test</th><th>session_id</th><th>session_end</th><th>target</th><th>dt</th></tr><tr><td>str</td><td>u32</td><td>list[u64]</td><td>list[i64]</td><td>bool</td><td>str</td><td>datetime[ns]</td><td>u64</td><td>date</td></tr></thead><tbody><tr><td>&quot;u_237129&quot;</td><td>2</td><td>[1481580, 208271, … 1606798]</td><td>[2, 2, … 2]</td><td>false</td><td>&quot;s_361359&quot;</td><td>2023-11-13 12:08:36.976</td><td>716724</td><td>2023-11-13</td></tr><tr><td>&quot;u_237129&quot;</td><td>2</td><td>[1481580, 208271, … 1606798]</td><td>[2, 2, … 2]</td><td>false</td><td>&quot;s_361359&quot;</td><td>2023-11-13 12:08:36.976</td><td>690666</td><td>2023-11-13</td></tr><tr><td>&quot;u_864547&quot;</td><td>4</td><td>[1026937, 937429, … 11453]</td><td>[2, 1, … 2]</td><td>false</td><td>&quot;s_706889&quot;</td><td>2023-11-10 12:24:02.680</td><td>1402024</td><td>2023-11-10</td></tr><tr><td>&quot;u_864547&quot;</td><td>4</td><td>[1026937, 937429, … 11453]</td><td>[2, 1, … 2]</td><td>false</td><td>&quot;s_706889&quot;</td><td>2023-11-10 12:24:02.680</td><td>444323</td><td>2023-11-10</td></tr><tr><td>&quot;u_67865&quot;</td><td>12</td><td>[1902157, 1389016, … 525654]</td><td>[2, 2, … 2]</td><td>true</td><td>&quot;s_10270673&quot;</td><td>2023-11-21 10:33:14.025</td><td>2705314</td><td>2023-11-21</td></tr></tbody></table></div>"
      ],
      "text/plain": [
       "shape: (5, 9)\n",
       "┌──────────┬────────────┬────────────┬───────────┬───┬───────────┬───────────┬─────────┬───────────┐\n",
       "│ user_id  ┆ n_sessions ┆ vacancy_id ┆ action_ty ┆ … ┆ session_i ┆ session_e ┆ target  ┆ dt        │\n",
       "│ ---      ┆ ---        ┆ ---        ┆ pe        ┆   ┆ d         ┆ nd        ┆ ---     ┆ ---       │\n",
       "│ str      ┆ u32        ┆ list[u64]  ┆ ---       ┆   ┆ ---       ┆ ---       ┆ u64     ┆ date      │\n",
       "│          ┆            ┆            ┆ list[i64] ┆   ┆ str       ┆ datetime[ ┆         ┆           │\n",
       "│          ┆            ┆            ┆           ┆   ┆           ┆ ns]       ┆         ┆           │\n",
       "╞══════════╪════════════╪════════════╪═══════════╪═══╪═══════════╪═══════════╪═════════╪═══════════╡\n",
       "│ u_237129 ┆ 2          ┆ [1481580,  ┆ [2, 2, …  ┆ … ┆ s_361359  ┆ 2023-11-1 ┆ 716724  ┆ 2023-11-1 │\n",
       "│          ┆            ┆ 208271, …  ┆ 2]        ┆   ┆           ┆ 3 12:08:3 ┆         ┆ 3         │\n",
       "│          ┆            ┆ 1606798]   ┆           ┆   ┆           ┆ 6.976     ┆         ┆           │\n",
       "│ u_237129 ┆ 2          ┆ [1481580,  ┆ [2, 2, …  ┆ … ┆ s_361359  ┆ 2023-11-1 ┆ 690666  ┆ 2023-11-1 │\n",
       "│          ┆            ┆ 208271, …  ┆ 2]        ┆   ┆           ┆ 3 12:08:3 ┆         ┆ 3         │\n",
       "│          ┆            ┆ 1606798]   ┆           ┆   ┆           ┆ 6.976     ┆         ┆           │\n",
       "│ u_864547 ┆ 4          ┆ [1026937,  ┆ [2, 1, …  ┆ … ┆ s_706889  ┆ 2023-11-1 ┆ 1402024 ┆ 2023-11-1 │\n",
       "│          ┆            ┆ 937429, …  ┆ 2]        ┆   ┆           ┆ 0 12:24:0 ┆         ┆ 0         │\n",
       "│          ┆            ┆ 11453]     ┆           ┆   ┆           ┆ 2.680     ┆         ┆           │\n",
       "│ u_864547 ┆ 4          ┆ [1026937,  ┆ [2, 1, …  ┆ … ┆ s_706889  ┆ 2023-11-1 ┆ 444323  ┆ 2023-11-1 │\n",
       "│          ┆            ┆ 937429, …  ┆ 2]        ┆   ┆           ┆ 0 12:24:0 ┆         ┆ 0         │\n",
       "│          ┆            ┆ 11453]     ┆           ┆   ┆           ┆ 2.680     ┆         ┆           │\n",
       "│ u_67865  ┆ 12         ┆ [1902157,  ┆ [2, 2, …  ┆ … ┆ s_1027067 ┆ 2023-11-2 ┆ 2705314 ┆ 2023-11-2 │\n",
       "│          ┆            ┆ 1389016, … ┆ 2]        ┆   ┆ 3         ┆ 1 10:33:1 ┆         ┆ 1         │\n",
       "│          ┆            ┆ 525654]    ┆           ┆   ┆           ┆ 4.025     ┆         ┆           │\n",
       "└──────────┴────────────┴────────────┴───────────┴───┴───────────┴───────────┴─────────┴───────────┘"
      ]
     },
     "execution_count": 107,
     "metadata": {},
     "output_type": "execute_result"
    }
   ],
   "source": [
    "pl.read_parquet('../data/dssm_train.pq').select(\n",
    "    pl.all(),\n",
    "    pl.col('session_end').cast(pl.Date).alias('dt')\n",
    ").head()"
   ]
  }
 ],
 "metadata": {
  "kernelspec": {
   "display_name": "Python 3 (ipykernel)",
   "language": "python",
   "name": "python3"
  },
  "language_info": {
   "codemirror_mode": {
    "name": "ipython",
    "version": 3
   },
   "file_extension": ".py",
   "mimetype": "text/x-python",
   "name": "python",
   "nbconvert_exporter": "python",
   "pygments_lexer": "ipython3",
   "version": "3.10.12"
  }
 },
 "nbformat": 4,
 "nbformat_minor": 5
}
