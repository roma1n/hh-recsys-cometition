{
 "cells": [
  {
   "cell_type": "code",
   "execution_count": 1,
   "id": "a9b1210b-29ec-4d9a-819a-6fa65a3ce69e",
   "metadata": {},
   "outputs": [],
   "source": [
    "import polars as pl"
   ]
  },
  {
   "cell_type": "code",
   "execution_count": 2,
   "id": "ac3d5b48-5b50-4c86-8814-2f13e772aff3",
   "metadata": {},
   "outputs": [
    {
     "name": "stdout",
     "output_type": "stream",
     "text": [
      "hh_recsys_sample.pq\n",
      "hh_recsys_test_hh.pq\n",
      "hh_recsys_train_hh.pq\n",
      "hh_recsys_vacancies.pq\n"
     ]
    }
   ],
   "source": [
    "!ls ../data | grep hh_"
   ]
  },
  {
   "cell_type": "code",
   "execution_count": 4,
   "id": "e382afc1-7601-43ec-bd80-cfb0c995d835",
   "metadata": {},
   "outputs": [
    {
     "data": {
      "text/html": [
       "<div><style>\n",
       ".dataframe > thead > tr,\n",
       ".dataframe > tbody > tr {\n",
       "  text-align: right;\n",
       "  white-space: pre-wrap;\n",
       "}\n",
       "</style>\n",
       "<small>shape: (2, 5)</small><table border=\"1\" class=\"dataframe\"><thead><tr><th>user_id</th><th>session_id</th><th>vacancy_id</th><th>action_type</th><th>action_dt</th></tr><tr><td>str</td><td>str</td><td>list[str]</td><td>list[i64]</td><td>list[datetime[ns]]</td></tr></thead><tbody><tr><td>&quot;u_332060&quot;</td><td>&quot;s_28301374&quot;</td><td>[&quot;v_2571684&quot;, &quot;v_488179&quot;, … &quot;v_2633899&quot;]</td><td>[2, 2, … 2]</td><td>[2023-11-01 00:40:58.105, 2023-11-01 00:58:13.091, … 2023-11-01 01:35:54.456]</td></tr><tr><td>&quot;u_1057881&quot;</td><td>&quot;s_33868982&quot;</td><td>[&quot;v_665861&quot;]</td><td>[2]</td><td>[2023-11-01 00:23:51.452]</td></tr></tbody></table></div>"
      ],
      "text/plain": [
       "shape: (2, 5)\n",
       "┌───────────┬────────────┬─────────────────────────────┬─────────────┬─────────────────────────────┐\n",
       "│ user_id   ┆ session_id ┆ vacancy_id                  ┆ action_type ┆ action_dt                   │\n",
       "│ ---       ┆ ---        ┆ ---                         ┆ ---         ┆ ---                         │\n",
       "│ str       ┆ str        ┆ list[str]                   ┆ list[i64]   ┆ list[datetime[ns]]          │\n",
       "╞═══════════╪════════════╪═════════════════════════════╪═════════════╪═════════════════════════════╡\n",
       "│ u_332060  ┆ s_28301374 ┆ [\"v_2571684\", \"v_488179\", … ┆ [2, 2, … 2] ┆ [2023-11-01 00:40:58.105,   │\n",
       "│           ┆            ┆ \"v_2…                       ┆             ┆ 2023-1…                     │\n",
       "│ u_1057881 ┆ s_33868982 ┆ [\"v_665861\"]                ┆ [2]         ┆ [2023-11-01 00:23:51.452]   │\n",
       "└───────────┴────────────┴─────────────────────────────┴─────────────┴─────────────────────────────┘"
      ]
     },
     "execution_count": 4,
     "metadata": {},
     "output_type": "execute_result"
    }
   ],
   "source": [
    "compact_log = pl.concat([\n",
    "    pl.read_parquet('../data/hh_recsys_train_hh.pq'),\n",
    "    pl.read_parquet('../data/hh_recsys_test_hh.pq'),\n",
    "])\n",
    "compact_log.head(2)"
   ]
  },
  {
   "cell_type": "code",
   "execution_count": 5,
   "id": "966aba6c-2ac3-4783-90c7-658b071779e1",
   "metadata": {},
   "outputs": [
    {
     "data": {
      "text/html": [
       "<div><style>\n",
       ".dataframe > thead > tr,\n",
       ".dataframe > tbody > tr {\n",
       "  text-align: right;\n",
       "  white-space: pre-wrap;\n",
       "}\n",
       "</style>\n",
       "<small>shape: (2, 2)</small><table border=\"1\" class=\"dataframe\"><thead><tr><th>vacancy_id</th><th>action_dt</th></tr><tr><td>str</td><td>datetime[ns]</td></tr></thead><tbody><tr><td>&quot;v_2571684&quot;</td><td>2023-11-01 00:40:58.105</td></tr><tr><td>&quot;v_488179&quot;</td><td>2023-11-01 00:58:13.091</td></tr></tbody></table></div>"
      ],
      "text/plain": [
       "shape: (2, 2)\n",
       "┌────────────┬─────────────────────────┐\n",
       "│ vacancy_id ┆ action_dt               │\n",
       "│ ---        ┆ ---                     │\n",
       "│ str        ┆ datetime[ns]            │\n",
       "╞════════════╪═════════════════════════╡\n",
       "│ v_2571684  ┆ 2023-11-01 00:40:58.105 │\n",
       "│ v_488179   ┆ 2023-11-01 00:58:13.091 │\n",
       "└────────────┴─────────────────────────┘"
      ]
     },
     "execution_count": 5,
     "metadata": {},
     "output_type": "execute_result"
    }
   ],
   "source": [
    "log = compact_log.select(\n",
    "    'vacancy_id',\n",
    "    'action_dt',\n",
    ").explode(\n",
    "    'vacancy_id',\n",
    "    'action_dt',\n",
    ")\n",
    "log.head(2)"
   ]
  },
  {
   "cell_type": "code",
   "execution_count": 42,
   "id": "63554716-f44e-4727-95b8-4468d3993416",
   "metadata": {},
   "outputs": [
    {
     "data": {
      "text/plain": [
       "(21,)"
      ]
     },
     "execution_count": 42,
     "metadata": {},
     "output_type": "execute_result"
    }
   ],
   "source": [
    "log['action_dt'].cast(pl.Date).unique().shape"
   ]
  },
  {
   "cell_type": "code",
   "execution_count": 51,
   "id": "2baad88b-b646-43cc-9d62-09a7e119705f",
   "metadata": {},
   "outputs": [
    {
     "data": {
      "text/plain": [
       "0.009705470376501574"
      ]
     },
     "execution_count": 51,
     "metadata": {},
     "output_type": "execute_result"
    }
   ],
   "source": [
    "(20/21)**95"
   ]
  },
  {
   "cell_type": "code",
   "execution_count": 17,
   "id": "e65f4b66-ac14-42e2-ae32-84ea889e65e4",
   "metadata": {},
   "outputs": [
    {
     "data": {
      "text/plain": [
       "datetime.date(2023, 11, 21)"
      ]
     },
     "execution_count": 17,
     "metadata": {},
     "output_type": "execute_result"
    }
   ],
   "source": [
    "last_log_dt = log['action_dt'].cast(pl.Date).max()\n",
    "last_log_dt"
   ]
  },
  {
   "cell_type": "code",
   "execution_count": 27,
   "id": "0c087d74-ebb8-43a4-954c-17e4cef71338",
   "metadata": {},
   "outputs": [
    {
     "data": {
      "text/html": [
       "<div><style>\n",
       ".dataframe > thead > tr,\n",
       ".dataframe > tbody > tr {\n",
       "  text-align: right;\n",
       "  white-space: pre-wrap;\n",
       "}\n",
       "</style>\n",
       "<small>shape: (10, 3)</small><table border=\"1\" class=\"dataframe\"><thead><tr><th>vacancy_id</th><th>action_dt</th><th>n_action</th></tr><tr><td>str</td><td>date</td><td>u32</td></tr></thead><tbody><tr><td>&quot;v_460169&quot;</td><td>2023-11-21</td><td>13746</td></tr><tr><td>&quot;v_964765&quot;</td><td>2023-11-21</td><td>6798</td></tr><tr><td>&quot;v_1840884&quot;</td><td>2023-11-21</td><td>6687</td></tr><tr><td>&quot;v_2691293&quot;</td><td>2023-11-16</td><td>6622</td></tr><tr><td>&quot;v_1481785&quot;</td><td>2023-11-10</td><td>5779</td></tr><tr><td>&quot;v_1507795&quot;</td><td>2023-11-21</td><td>5259</td></tr><tr><td>&quot;v_2337447&quot;</td><td>2023-11-21</td><td>4540</td></tr><tr><td>&quot;v_745592&quot;</td><td>2023-11-08</td><td>4537</td></tr><tr><td>&quot;v_690752&quot;</td><td>2023-11-13</td><td>4441</td></tr><tr><td>&quot;v_2730052&quot;</td><td>2023-11-21</td><td>4201</td></tr></tbody></table></div>"
      ],
      "text/plain": [
       "shape: (10, 3)\n",
       "┌────────────┬────────────┬──────────┐\n",
       "│ vacancy_id ┆ action_dt  ┆ n_action │\n",
       "│ ---        ┆ ---        ┆ ---      │\n",
       "│ str        ┆ date       ┆ u32      │\n",
       "╞════════════╪════════════╪══════════╡\n",
       "│ v_460169   ┆ 2023-11-21 ┆ 13746    │\n",
       "│ v_964765   ┆ 2023-11-21 ┆ 6798     │\n",
       "│ v_1840884  ┆ 2023-11-21 ┆ 6687     │\n",
       "│ v_2691293  ┆ 2023-11-16 ┆ 6622     │\n",
       "│ …          ┆ …          ┆ …        │\n",
       "│ v_2337447  ┆ 2023-11-21 ┆ 4540     │\n",
       "│ v_745592   ┆ 2023-11-08 ┆ 4537     │\n",
       "│ v_690752   ┆ 2023-11-13 ┆ 4441     │\n",
       "│ v_2730052  ┆ 2023-11-21 ┆ 4201     │\n",
       "└────────────┴────────────┴──────────┘"
      ]
     },
     "execution_count": 27,
     "metadata": {},
     "output_type": "execute_result"
    }
   ],
   "source": [
    "n_action = log.group_by(\n",
    "    'vacancy_id'\n",
    ").agg(\n",
    "    pl.col('action_dt').cast(pl.Date).max(),\n",
    "    pl.count().alias('n_action'),\n",
    ").sort('n_action', descending=True)\n",
    "\n",
    "n_action.head(10)"
   ]
  },
  {
   "cell_type": "code",
   "execution_count": 52,
   "id": "f3bcaeea-bd1b-44f3-a8fe-45828f454260",
   "metadata": {},
   "outputs": [
    {
     "data": {
      "text/html": [
       "<div><style>\n",
       ".dataframe > thead > tr,\n",
       ".dataframe > tbody > tr {\n",
       "  text-align: right;\n",
       "  white-space: pre-wrap;\n",
       "}\n",
       "</style>\n",
       "<small>shape: (5, 3)</small><table border=\"1\" class=\"dataframe\"><thead><tr><th>vacancy_id</th><th>action_dt</th><th>n_action</th></tr><tr><td>str</td><td>date</td><td>u32</td></tr></thead><tbody><tr><td>&quot;v_2691293&quot;</td><td>2023-11-16</td><td>6622</td></tr><tr><td>&quot;v_1481785&quot;</td><td>2023-11-10</td><td>5779</td></tr><tr><td>&quot;v_745592&quot;</td><td>2023-11-08</td><td>4537</td></tr><tr><td>&quot;v_690752&quot;</td><td>2023-11-13</td><td>4441</td></tr><tr><td>&quot;v_1455671&quot;</td><td>2023-11-19</td><td>3946</td></tr></tbody></table></div>"
      ],
      "text/plain": [
       "shape: (5, 3)\n",
       "┌────────────┬────────────┬──────────┐\n",
       "│ vacancy_id ┆ action_dt  ┆ n_action │\n",
       "│ ---        ┆ ---        ┆ ---      │\n",
       "│ str        ┆ date       ┆ u32      │\n",
       "╞════════════╪════════════╪══════════╡\n",
       "│ v_2691293  ┆ 2023-11-16 ┆ 6622     │\n",
       "│ v_1481785  ┆ 2023-11-10 ┆ 5779     │\n",
       "│ v_745592   ┆ 2023-11-08 ┆ 4537     │\n",
       "│ v_690752   ┆ 2023-11-13 ┆ 4441     │\n",
       "│ v_1455671  ┆ 2023-11-19 ┆ 3946     │\n",
       "└────────────┴────────────┴──────────┘"
      ]
     },
     "execution_count": 52,
     "metadata": {},
     "output_type": "execute_result"
    }
   ],
   "source": [
    "deleted = n_action.filter(\n",
    "    (\n",
    "        pl.col('n_action') > 95\n",
    "    ) & (\n",
    "        pl.col('action_dt') != last_log_dt\n",
    "    ),\n",
    ")\n",
    "deleted.head(5)"
   ]
  },
  {
   "cell_type": "code",
   "execution_count": 53,
   "id": "e478ac94-6996-4e12-8e7b-d860dcf12f8c",
   "metadata": {},
   "outputs": [
    {
     "data": {
      "text/html": [
       "<div><style>\n",
       ".dataframe > thead > tr,\n",
       ".dataframe > tbody > tr {\n",
       "  text-align: right;\n",
       "  white-space: pre-wrap;\n",
       "}\n",
       "</style>\n",
       "<small>shape: (5, 2)</small><table border=\"1\" class=\"dataframe\"><thead><tr><th>user_id</th><th>vacancy_id</th></tr><tr><td>str</td><td>str</td></tr></thead><tbody><tr><td>&quot;u_775363&quot;</td><td>&quot;v_622811&quot;</td></tr><tr><td>&quot;u_775363&quot;</td><td>&quot;v_2668345&quot;</td></tr><tr><td>&quot;u_775363&quot;</td><td>&quot;v_390512&quot;</td></tr><tr><td>&quot;u_775363&quot;</td><td>&quot;v_2530865&quot;</td></tr><tr><td>&quot;u_775363&quot;</td><td>&quot;v_1783814&quot;</td></tr></tbody></table></div>"
      ],
      "text/plain": [
       "shape: (5, 2)\n",
       "┌──────────┬────────────┐\n",
       "│ user_id  ┆ vacancy_id │\n",
       "│ ---      ┆ ---        │\n",
       "│ str      ┆ str        │\n",
       "╞══════════╪════════════╡\n",
       "│ u_775363 ┆ v_622811   │\n",
       "│ u_775363 ┆ v_2668345  │\n",
       "│ u_775363 ┆ v_390512   │\n",
       "│ u_775363 ┆ v_2530865  │\n",
       "│ u_775363 ┆ v_1783814  │\n",
       "└──────────┴────────────┘"
      ]
     },
     "execution_count": 53,
     "metadata": {},
     "output_type": "execute_result"
    }
   ],
   "source": [
    "cp = pl.read_parquet('../data/catboost_predictions_v3.pq').explode('predictions').select(\n",
    "    pl.exclude('predictions'),\n",
    "    pl.col('predictions').alias('vacancy_id'),\n",
    ")\n",
    "cp.head()"
   ]
  },
  {
   "cell_type": "code",
   "execution_count": 57,
   "id": "122c376b-c0aa-4ad5-b10f-31ce3f6ab441",
   "metadata": {},
   "outputs": [
    {
     "data": {
      "text/html": [
       "<div><style>\n",
       ".dataframe > thead > tr,\n",
       ".dataframe > tbody > tr {\n",
       "  text-align: right;\n",
       "  white-space: pre-wrap;\n",
       "}\n",
       "</style>\n",
       "<small>shape: (1, 2)</small><table border=\"1\" class=\"dataframe\"><thead><tr><th>user_id</th><th>count</th></tr><tr><td>str</td><td>u32</td></tr></thead><tbody><tr><td>&quot;u_999991&quot;</td><td>66</td></tr></tbody></table></div>"
      ],
      "text/plain": [
       "shape: (1, 2)\n",
       "┌──────────┬───────┐\n",
       "│ user_id  ┆ count │\n",
       "│ ---      ┆ ---   │\n",
       "│ str      ┆ u32   │\n",
       "╞══════════╪═══════╡\n",
       "│ u_999991 ┆ 66    │\n",
       "└──────────┴───────┘"
      ]
     },
     "execution_count": 57,
     "metadata": {},
     "output_type": "execute_result"
    }
   ],
   "source": [
    "cp.join(\n",
    "    deleted,\n",
    "    on='vacancy_id',\n",
    ").group_by(\n",
    "    'user_id'\n",
    ").count().max()"
   ]
  },
  {
   "cell_type": "code",
   "execution_count": 55,
   "id": "bea362ac-3102-4e32-a67c-8bff2ced8974",
   "metadata": {},
   "outputs": [
    {
     "data": {
      "text/plain": [
       "(8318900, 2)"
      ]
     },
     "execution_count": 55,
     "metadata": {},
     "output_type": "execute_result"
    }
   ],
   "source": [
    "cp.shape"
   ]
  },
  {
   "cell_type": "code",
   "execution_count": 56,
   "id": "0ea6cfc1-9142-41a2-9027-a49f71ae6b0b",
   "metadata": {},
   "outputs": [
    {
     "data": {
      "text/plain": [
       "0.16707437281371335"
      ]
     },
     "execution_count": 56,
     "metadata": {},
     "output_type": "execute_result"
    }
   ],
   "source": [
    "1389875 / 8318900"
   ]
  }
 ],
 "metadata": {
  "kernelspec": {
   "display_name": "Python 3 (ipykernel)",
   "language": "python",
   "name": "python3"
  },
  "language_info": {
   "codemirror_mode": {
    "name": "ipython",
    "version": 3
   },
   "file_extension": ".py",
   "mimetype": "text/x-python",
   "name": "python",
   "nbconvert_exporter": "python",
   "pygments_lexer": "ipython3",
   "version": "3.10.12"
  }
 },
 "nbformat": 4,
 "nbformat_minor": 5
}
